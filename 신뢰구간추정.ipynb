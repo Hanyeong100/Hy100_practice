{
 "cells": [
  {
   "cell_type": "markdown",
   "id": "264c0bae",
   "metadata": {},
   "source": [
    "# 추론통계"
   ]
  },
  {
   "cell_type": "code",
   "execution_count": 1,
   "id": "9c494323",
   "metadata": {},
   "outputs": [],
   "source": [
    "# 패키지 임포트 \n",
    "import os \n",
    "import warnings\n",
    "warnings.simplefilter(action='ignore', category=FutureWarning) # FutureWarning 제거\n",
    "\n",
    "import pandas as pd # pandas package\n",
    "import numpy as np  # numpy package  \n",
    "import math\n",
    "from scipy import stats  # Scipy Package \n",
    "\n",
    "# 시각화 패키지 \n",
    "import matplotlib.pyplot as plt #  matplotlib 시각화 패키지 \n",
    "import seaborn as sns\n",
    "%matplotlib inline\n",
    "\n",
    "# os에 따른 Font 깨짐 제거를 위해 Font 지정 \n",
    "import os \n",
    "if os.name == 'nt' :  # Windows OS \n",
    "    font_family = \"Malgun Gothic\"\n",
    "else: # MAC OS \n",
    "    font_family = \"AppleGothic\"\n",
    "    \n",
    "# - 값이 깨지는 문제 해결을 위해 파라미터 값 설정 \n",
    "sns.set(font=font_family, rc ={\"axes.unicode_minus\" : False})  "
   ]
  },
  {
   "cell_type": "markdown",
   "id": "432a95df",
   "metadata": {},
   "source": [
    "## 1. 평균의 점추정 "
   ]
  },
  {
   "cell_type": "code",
   "execution_count": 10,
   "id": "9ec8a203",
   "metadata": {},
   "outputs": [],
   "source": [
    "# import numpy as np\n",
    "# import pandas as pd\n",
    "# import matplotlib.pyplot as plt\n",
    "# import math\n",
    "# import scipy.stats as st"
   ]
  },
  {
   "cell_type": "markdown",
   "id": "2c006f5f",
   "metadata": {},
   "source": [
    "### 1) 데이터 생성 "
   ]
  },
  {
   "cell_type": "code",
   "execution_count": 2,
   "id": "b52ea3d8",
   "metadata": {},
   "outputs": [],
   "source": [
    "# 데이터 생성 \n",
    "np.random.seed(100)\n",
    "\n",
    "math_score = pd.DataFrame(np.random.randint(25, 101, size=500), columns=[\"점수\"])"
   ]
  },
  {
   "cell_type": "markdown",
   "id": "da737d9f",
   "metadata": {},
   "source": [
    "### 2) 데이터 탐색"
   ]
  },
  {
   "cell_type": "code",
   "execution_count": 3,
   "id": "906c2111",
   "metadata": {},
   "outputs": [
    {
     "data": {
      "text/html": [
       "<div>\n",
       "<style scoped>\n",
       "    .dataframe tbody tr th:only-of-type {\n",
       "        vertical-align: middle;\n",
       "    }\n",
       "\n",
       "    .dataframe tbody tr th {\n",
       "        vertical-align: top;\n",
       "    }\n",
       "\n",
       "    .dataframe thead th {\n",
       "        text-align: right;\n",
       "    }\n",
       "</style>\n",
       "<table border=\"1\" class=\"dataframe\">\n",
       "  <thead>\n",
       "    <tr style=\"text-align: right;\">\n",
       "      <th></th>\n",
       "      <th>점수</th>\n",
       "    </tr>\n",
       "  </thead>\n",
       "  <tbody>\n",
       "    <tr>\n",
       "      <th>count</th>\n",
       "      <td>500.000000</td>\n",
       "    </tr>\n",
       "    <tr>\n",
       "      <th>mean</th>\n",
       "      <td>61.580000</td>\n",
       "    </tr>\n",
       "    <tr>\n",
       "      <th>std</th>\n",
       "      <td>21.513374</td>\n",
       "    </tr>\n",
       "    <tr>\n",
       "      <th>min</th>\n",
       "      <td>25.000000</td>\n",
       "    </tr>\n",
       "    <tr>\n",
       "      <th>25%</th>\n",
       "      <td>42.000000</td>\n",
       "    </tr>\n",
       "    <tr>\n",
       "      <th>50%</th>\n",
       "      <td>62.500000</td>\n",
       "    </tr>\n",
       "    <tr>\n",
       "      <th>75%</th>\n",
       "      <td>79.000000</td>\n",
       "    </tr>\n",
       "    <tr>\n",
       "      <th>max</th>\n",
       "      <td>100.000000</td>\n",
       "    </tr>\n",
       "  </tbody>\n",
       "</table>\n",
       "</div>"
      ],
      "text/plain": [
       "               점수\n",
       "count  500.000000\n",
       "mean    61.580000\n",
       "std     21.513374\n",
       "min     25.000000\n",
       "25%     42.000000\n",
       "50%     62.500000\n",
       "75%     79.000000\n",
       "max    100.000000"
      ]
     },
     "execution_count": 3,
     "metadata": {},
     "output_type": "execute_result"
    }
   ],
   "source": [
    "# 요약 정보 \n",
    "math_score.describe()"
   ]
  },
  {
   "cell_type": "code",
   "execution_count": 4,
   "id": "0b36b5f2",
   "metadata": {},
   "outputs": [
    {
     "data": {
      "text/plain": [
       "array([33, 49, 92, 73, 35])"
      ]
     },
     "execution_count": 4,
     "metadata": {},
     "output_type": "execute_result"
    }
   ],
   "source": [
    "# 데이터 확인 \n",
    "scores = np.array(math_score['점수'])\n",
    "scores[:5]"
   ]
  },
  {
   "cell_type": "code",
   "execution_count": 5,
   "id": "60568d49",
   "metadata": {},
   "outputs": [
    {
     "name": "stdout",
     "output_type": "stream",
     "text": [
      "[85 91 85 81 64 96 83 68 53 52 61 80 89 32 95 64 81 72 94 92]\n",
      "75.9\n",
      "282.29\n",
      "16.801488029338355\n"
     ]
    }
   ],
   "source": [
    "# 20개 샘플 추출(복원추출)\n",
    "sample = np.random.choice(scores,20)\n",
    "print(sample)\n",
    "print(sample.mean())\n",
    "print(sample.var())\n",
    "print(sample.std()) # np.std(sample) # 편향 표본 표준편차"
   ]
  },
  {
   "cell_type": "code",
   "execution_count": 6,
   "id": "d67db940",
   "metadata": {},
   "outputs": [
    {
     "name": "stdout",
     "output_type": "stream",
     "text": [
      "1 표본평균 67.0\n",
      "2 표본평균 61.55\n",
      "3 표본평균 59.55\n",
      "4 표본평균 62.6\n",
      "5 표본평균 57.95\n",
      "6 표본평균 57.8\n",
      "7 표본평균 59.85\n",
      "8 표본평균 65.05\n",
      "9 표본평균 60.0\n",
      "10 표본평균 63.05\n"
     ]
    }
   ],
   "source": [
    "# 표본에 따라 평균 오차 확인 \n",
    "for i in range(10):\n",
    "    sample1 = np.random.choice(scores,20)\n",
    "    print(i+1,\"표본평균\", sample1.mean())"
   ]
  },
  {
   "cell_type": "code",
   "execution_count": 7,
   "id": "d3dc1129",
   "metadata": {},
   "outputs": [
    {
     "data": {
      "image/png": "[encoded data removed]",
      "text/plain": [
       "<Figure size 432x288 with 1 Axes>"
      ]
     },
     "metadata": {},
     "output_type": "display_data"
    }
   ],
   "source": [
    "# 모집단 데이터 분포 확인 \n",
    "plt.xlabel('score')\n",
    "plt.ylabel('relative frequency')\n",
    "plt.hist(scores, bins=100, range=(0,100), density=True) # density = True면 상대도수\n",
    "plt.xlim(20,100)\n",
    "plt.show()"
   ]
  },
  {
   "cell_type": "code",
   "execution_count": 8,
   "id": "3ceb2ce2",
   "metadata": {},
   "outputs": [],
   "source": [
    "# 샘플2 10000개 생성하여 분포 확인 \n",
    "sample_score = np.random.choice(scores, 10000)"
   ]
  },
  {
   "cell_type": "code",
   "execution_count": 9,
   "id": "4bf713f6",
   "metadata": {},
   "outputs": [
    {
     "data": {
      "image/png": "[encoded data removed]",
      "text/plain": [
       "<Figure size 432x288 with 1 Axes>"
      ]
     },
     "metadata": {},
     "output_type": "display_data"
    }
   ],
   "source": [
    "plt.hist(sample_score,bins=100,range=(0,100),density=True)\n",
    "plt.xlim(20,100)\n",
    "plt.show()"
   ]
  },
  {
   "cell_type": "code",
   "execution_count": 10,
   "id": "4e68a022",
   "metadata": {},
   "outputs": [
    {
     "data": {
      "text/plain": [
       "(10000,)"
      ]
     },
     "execution_count": 10,
     "metadata": {},
     "output_type": "execute_result"
    }
   ],
   "source": [
    "sample_score.shape"
   ]
  },
  {
   "cell_type": "markdown",
   "id": "c8002657",
   "metadata": {},
   "source": [
    "### 3) 모평균 점추정 "
   ]
  },
  {
   "cell_type": "code",
   "execution_count": 11,
   "id": "ed35bfeb",
   "metadata": {},
   "outputs": [],
   "source": [
    "# 20개(n)의 표본 100번 추출 \n",
    "n = 20\n",
    "nSample = 100 \n",
    "\n",
    "sample_mean = np.array([np.random.choice(scores,n,).mean() for _ in range(nSample)])"
   ]
  },
  {
   "cell_type": "code",
   "execution_count": 12,
   "id": "d5aebd14",
   "metadata": {
    "scrolled": true
   },
   "outputs": [
    {
     "data": {
      "text/plain": [
       "array([63.9 , 62.65, 63.4 , 57.4 , 56.75, 60.35, 55.15, 67.2 , 58.15,\n",
       "       64.15, 67.7 , 58.45, 58.1 , 60.5 , 58.3 , 63.2 , 65.  , 63.1 ,\n",
       "       58.75, 70.2 , 61.3 , 60.95, 55.4 , 62.25, 62.7 , 62.8 , 61.05,\n",
       "       71.3 , 56.8 , 73.4 , 63.  , 63.15, 65.6 , 64.35, 61.55, 74.35,\n",
       "       51.85, 58.9 , 57.1 , 57.1 , 52.8 , 65.8 , 68.9 , 62.75, 54.4 ,\n",
       "       57.95, 62.7 , 60.15, 64.15, 61.4 , 71.75, 54.4 , 60.5 , 59.85,\n",
       "       57.3 , 61.3 , 55.95, 67.45, 62.45, 61.8 , 55.2 , 61.85, 71.1 ,\n",
       "       62.85, 69.7 , 58.15, 49.75, 58.85, 67.2 , 67.5 , 68.65, 56.1 ,\n",
       "       62.8 , 58.  , 57.75, 59.2 , 55.35, 67.5 , 56.9 , 59.3 , 67.15,\n",
       "       50.75, 63.4 , 72.2 , 60.6 , 67.3 , 50.45, 69.55, 69.85, 63.1 ,\n",
       "       62.1 , 64.8 , 70.7 , 71.25, 58.9 , 63.9 , 62.65, 65.2 , 64.9 ,\n",
       "       61.  ])"
      ]
     },
     "execution_count": 12,
     "metadata": {},
     "output_type": "execute_result"
    }
   ],
   "source": [
    "# 표본평균 분포 확인 \n",
    "sample_mean"
   ]
  },
  {
   "cell_type": "code",
   "execution_count": 13,
   "id": "f2e75995",
   "metadata": {},
   "outputs": [
    {
     "data": {
      "text/plain": [
       "61.58"
      ]
     },
     "execution_count": 13,
     "metadata": {},
     "output_type": "execute_result"
    }
   ],
   "source": [
    "# 모집단의 평균 확인 \n",
    "scores.mean()"
   ]
  },
  {
   "cell_type": "code",
   "execution_count": 14,
   "id": "87556b59",
   "metadata": {},
   "outputs": [
    {
     "data": {
      "text/plain": [
       "62.04499999999999"
      ]
     },
     "execution_count": 14,
     "metadata": {},
     "output_type": "execute_result"
    }
   ],
   "source": [
    "# 표본평균의 평균 \n",
    "sample_mean.mean() "
   ]
  },
  {
   "cell_type": "code",
   "execution_count": 15,
   "id": "e51da89b",
   "metadata": {},
   "outputs": [
    {
     "name": "stdout",
     "output_type": "stream",
     "text": [
      "모평균 : 61.58\n",
      "표본평균의 평균 : 62.04499999999999\n",
      "모분산/n : 23.09498\n",
      "표본평균의 분산 : 28.156875000000003\n",
      "표본평균의 표준편차 : 5.306305211726895\n",
      "표준오차 : 4.805723670790903\n"
     ]
    }
   ],
   "source": [
    "# 모평균\n",
    "print('모평균 :',scores.mean())\n",
    "\n",
    "# 표본평균의 평균  <= 모집단을 모를 경우 표본평균이 모수로 추정 \n",
    "print('표본평균의 평균 :',sample_mean.mean())\n",
    "\n",
    "# 모분산/n\n",
    "print('모분산/n :',scores.var()/n)\n",
    "\n",
    "# 표본평균의 분산\n",
    "print('표본평균의 분산 :',sample_mean.var())\n",
    "\n",
    "# 표본평균의 편차\n",
    "print('표본평균의 표준편차 :',sample_mean.std())\n",
    "\n",
    "# 표준오차 : standard error of the mean\n",
    "print('표준오차 :', scores.std()/math.sqrt(n))\n"
   ]
  },
  {
   "cell_type": "markdown",
   "id": "b8fea7e9",
   "metadata": {},
   "source": [
    "## 2. 신뢰구간 추정 "
   ]
  },
  {
   "cell_type": "markdown",
   "id": "d7ea5a1f",
   "metadata": {},
   "source": [
    "### 1) 모평균의 신뢰구간 추정  \n",
    "#### 샘플 수 < 30 , t통계량 이용 "
   ]
  },
  {
   "cell_type": "code",
   "execution_count": 16,
   "id": "f7316d51",
   "metadata": {},
   "outputs": [],
   "source": [
    "from scipy.stats import t\n",
    "\n",
    "t_95 = t.ppf(1 - (1 - 0.95) / 2, df=20-1)"
   ]
  },
  {
   "cell_type": "code",
   "execution_count": 17,
   "id": "41a74247",
   "metadata": {},
   "outputs": [
    {
     "data": {
      "text/plain": [
       "2.093024054408263"
      ]
     },
     "execution_count": 17,
     "metadata": {},
     "output_type": "execute_result"
    }
   ],
   "source": [
    "t_95"
   ]
  },
  {
   "cell_type": "code",
   "execution_count": 18,
   "id": "e280f38c",
   "metadata": {},
   "outputs": [
    {
     "name": "stdout",
     "output_type": "stream",
     "text": [
      "59.561572716050755\n",
      "64.52842728394923\n",
      "신뢰구간 : 4.966854567898473\n"
     ]
    }
   ],
   "source": [
    "# 20개(n)의 표본 100개를 추출 \n",
    "# 95% 신뢰구간 추정: t통계량 2.228\n",
    "\n",
    "sMean = sample_mean.mean()\n",
    "sStd = sample_mean.std() \n",
    "\n",
    "Low_c = sMean - t_95*(sStd / math.sqrt(n))\n",
    "Upper_c = sMean + t_95*(sStd / math.sqrt(n))\n",
    "print(Low_c)\n",
    "print(Upper_c)\n",
    "# 95% 신뢰로 모평균은 63점 ~ 73점 사이에 존재(추정)\n",
    "print('신뢰구간 :',Upper_c-Low_c)"
   ]
  },
  {
   "cell_type": "markdown",
   "id": "e1a79760",
   "metadata": {},
   "source": [
    "### 2) 모평균의 신뢰구간 추정  \n",
    "- 샘플 수 >= 30 , z통계량 이용 "
   ]
  },
  {
   "cell_type": "code",
   "execution_count": 19,
   "id": "10de7c75",
   "metadata": {},
   "outputs": [
    {
     "name": "stdout",
     "output_type": "stream",
     "text": [
      "모평균 61.58\n",
      "표본평균 55.7\n",
      "모편차 21.491849617936563\n",
      "표본편차 18.102762220169605\n"
     ]
    }
   ],
   "source": [
    "# 30개(n)의 표본 1개를 추출 \n",
    "# 95% 신뢰구간 추정: z통계량 1.96\n",
    "\n",
    "z_n = 30\n",
    "sample1 = np.random.choice(scores,n)\n",
    "z_sMean = sample1.mean()\n",
    "z_sStd = sample1.std()\n",
    "\n",
    "print('모평균',scores.mean())\n",
    "print('표본평균',z_sMean)\n",
    "print('모편차',scores.std())\n",
    "print('표본편차',z_sStd)"
   ]
  },
  {
   "cell_type": "code",
   "execution_count": 26,
   "id": "ab12019d",
   "metadata": {},
   "outputs": [],
   "source": [
    "# 임계값  \n",
    "z_95 = stats.norm.ppf(1 - (1-0.95)/2) # 양측 검정 \n",
    "\n",
    "# z_95_h = stats.norm.ppf(0.95) # 단측 검정\n",
    "# print(z_95_h)"
   ]
  },
  {
   "cell_type": "code",
   "execution_count": 27,
   "id": "5dce600e",
   "metadata": {},
   "outputs": [
    {
     "name": "stdout",
     "output_type": "stream",
     "text": [
      "48.01\n",
      "63.39\n",
      "신뢰구간 : 15.380000000000003\n"
     ]
    }
   ],
   "source": [
    "L_value_1 = round(z_sMean - z_95 * (scores.std()/math.sqrt(z_n)), 2)\n",
    "U_value_1 = round(z_sMean + z_95 * (scores.std()/math.sqrt(z_n)), 2)\n",
    "print(L_value_1)\n",
    "print(U_value_1)\n",
    "\n",
    "print('신뢰구간 :',U_value_1-L_value_1)"
   ]
  },
  {
   "cell_type": "markdown",
   "id": "6e89ef0e",
   "metadata": {},
   "source": [
    "#### 예제 \n",
    "- 어느 고등학교 남학생 49명의 제자리멀리뛰기 기록은 평균이 205cm 표준편차가 5cm이었다. \n",
    "- 이 학교 남학생들의 제자리 멀리뛰기 기록에 대한 모평균 m의 신뢰도 95% 신뢰구간을 구하여라."
   ]
  },
  {
   "cell_type": "code",
   "execution_count": 95,
   "id": "c5570b5c",
   "metadata": {},
   "outputs": [
    {
     "name": "stdout",
     "output_type": "stream",
     "text": [
      "신뢰구간 : 203.6 ~ 206.4\n",
      "신뢰구간 길이 : 2.8000000000000114\n",
      "203.6 < 205 < 206.4\n"
     ]
    }
   ],
   "source": [
    "# 모평균, 모표준편차, 표본수 \n",
    "mStd = 5\n",
    "mMean = 205\n",
    "n = 49\n",
    "\n",
    "# z통계량 : 1.96\n",
    "z_95_1 = stats.norm.ppf(1 - (1-0.95)/2) # 신뢰구간 \n",
    "\n",
    "# 신뢰구간 계산 \n",
    "L_value = round(mMean - z_95_1*(mStd/math.sqrt(n)),2)\n",
    "U_value = round(mMean + z_95_1*(mStd/math.sqrt(n)),2)\n",
    "\n",
    "print('신뢰구간 :',L_value,'~',U_value)\n",
    "print('신뢰구간 길이 :',U_value - L_value)\n",
    "\n",
    "print(\"{} < {} < {}\".format(L_value, mMean, U_value)) "
   ]
  },
  {
   "cell_type": "code",
   "execution_count": 93,
   "id": "264c4706",
   "metadata": {},
   "outputs": [
    {
     "data": {
      "image/png": "[encoded data removed]",
      "text/plain": [
       "<Figure size 432x288 with 1 Axes>"
      ]
     },
     "metadata": {},
     "output_type": "display_data"
    }
   ],
   "source": [
    "# 시각화 \n",
    "standard_norm = stats.norm(205, 20)\n",
    "\n",
    "# standard_sr = stats.norm.rcv()\n",
    "x = np.linspace(130, 280,100)\n",
    "\n",
    "plt.vlines(L_value, 0, standard_norm.pdf(L_value), colors=\"b\")\n",
    "plt.vlines(U_value, 0, standard_norm.pdf(U_value), colors=\"b\")\n",
    "plt.plot(x, standard_norm.pdf(x),'b--', lw=2, alpha=0.6, label='norm pdf')\n",
    "\n",
    "plt.title(\"신뢰구간 시각화\")\n",
    "plt.legend()\n",
    "plt.show()"
   ]
  },
  {
   "cell_type": "code",
   "execution_count": null,
   "id": "2322bfd1",
   "metadata": {},
   "outputs": [],
   "source": []
  }
 ],
 "metadata": {
  "kernelspec": {
   "display_name": "Python 3",
   "language": "python",
   "name": "python3"
  },
  "language_info": {
   "codemirror_mode": {
    "name": "ipython",
    "version": 3
   },
   "file_extension": ".py",
   "mimetype": "text/x-python",
   "name": "python",
   "nbconvert_exporter": "python",
   "pygments_lexer": "ipython3",
   "version": "3.6.13"
  }
 },
 "nbformat": 4,
 "nbformat_minor": 5
}
