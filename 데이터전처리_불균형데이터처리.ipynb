{
 "cells": [
  {
   "cell_type": "markdown",
   "id": "794e4f2f",
   "metadata": {},
   "source": [
    "# 불균형 데이터 처리 "
   ]
  },
  {
   "cell_type": "markdown",
   "id": "b09ac1e1",
   "metadata": {},
   "source": [
    "## 1. 필요 라이브러리 Import "
   ]
  },
  {
   "cell_type": "markdown",
   "id": "ff37378f",
   "metadata": {},
   "source": [
    "### imbalanced-learn 패키지 \n",
    "#### imbalanced data 문제를 해결하기 위한 다양한 샘플링 방법을 구현한 파이썬 패키지 \n",
    "#### 설치 방법 : jupyter notebook 에서 '!pip install imbalanced-learn' 혹은 '!pip install imbalanced' "
   ]
  },
  {
   "cell_type": "code",
   "execution_count": 7,
   "id": "4a240303",
   "metadata": {},
   "outputs": [],
   "source": [
    "import warnings\n",
    "warnings.simplefilter(action='ignore', category=FutureWarning) # FutureWarning 제거\n",
    "import numpy as np\n",
    "import pandas as pd\n",
    "%matplotlib inline\n",
    "from matplotlib import pyplot as plt\n",
    "import seaborn as sns\n",
    "from sklearn.datasets import make_classification # 데이터 셋 생성 패키지 \n",
    "# 불균형 데이터 처리-언더 샘플링 \n",
    "from imblearn.under_sampling import RandomUnderSampler\n",
    "from imblearn.under_sampling import TomekLinks \n",
    "from imblearn.under_sampling import OneSidedSelection \n",
    "# 불균형 데이터 처리-오버 샘플링 \n",
    "from imblearn.over_sampling import RandomOverSampler\n",
    "from imblearn.over_sampling import SMOTE \n",
    "from imblearn.over_sampling import ADASYN \n",
    "from imblearn.over_sampling import BorderlineSMOTE \n",
    "# 데이터 검증 \n",
    "from sklearn.ensemble import RandomForestClassifier #랜덤 포레스트 \n",
    "from sklearn.model_selection import RepeatedStratifiedKFold #Cross-Validation \n",
    "from sklearn.model_selection import cross_validate #Cross-Validation \n",
    "\n",
    "# os에 따른 Font 깨짐 제거를 위해 Font 지정 \n",
    "import os \n",
    "if os.name == 'nt' :  # Windows OS \n",
    "    font_family = \"Malgun Gothic\"\n",
    "else: # MAC OS \n",
    "    font_family = \"AppleGothic\"\n",
    "# - 값이 깨지는 문제 해결을 위해 파라미터 값 설정 \n",
    "sns.set(font=font_family, rc ={\"axes.unicode_minus\" : False})  "
   ]
  },
  {
   "cell_type": "code",
   "execution_count": 8,
   "id": "1deddcbb",
   "metadata": {},
   "outputs": [],
   "source": [
    "# 불균형 데이터에 처리에 따른 랜덤포레스트 결과 확인 함수 생성 \n",
    "def Randomforest_Result(x, y, title):\n",
    "\n",
    "    rf = RandomForestClassifier(criterion='entropy')\n",
    "    cv_rf = RepeatedStratifiedKFold(n_splits=10, n_repeats=3, random_state=1)\n",
    "#     cv_rf = RepeatedStratifiedKFold(n_splits=3, n_repeats=1, random_state=1)\n",
    "    scores = cross_validate(rf, x, y, scoring='f1', cv=cv_rf, n_jobs=-1)\n",
    "    print(title,':','3-Fold CV f1 score: %.4f' % np.mean(scores['test_score']))    \n",
    "\n",
    "    return "
   ]
  },
  {
   "cell_type": "markdown",
   "id": "57cd929c",
   "metadata": {},
   "source": [
    "## 2. Under Sampling \n",
    "### 1) 데이터 셋 준비 및 확인 "
   ]
  },
  {
   "cell_type": "code",
   "execution_count": 9,
   "id": "e574b78c",
   "metadata": {},
   "outputs": [
    {
     "name": "stdout",
     "output_type": "stream",
     "text": [
      "(10000, 20)\n"
     ]
    },
    {
     "data": {
      "text/plain": [
       "(10000,)"
      ]
     },
     "execution_count": 9,
     "metadata": {},
     "output_type": "execute_result"
    }
   ],
   "source": [
    "# 데이터 셋 준비 \n",
    "X_data, y_class = make_classification(n_classes=2, class_sep=2, n_samples=10000, \n",
    "                                      n_features=20, weights=[0.9, 0.1], flip_y=0,\n",
    "                                      n_clusters_per_class=1, random_state=10)\n",
    "\n",
    "print(X_data.shape)\n",
    "y_class.shape"
   ]
  },
  {
   "cell_type": "code",
   "execution_count": 16,
   "id": "89376a9c",
   "metadata": {},
   "outputs": [],
   "source": [
    "# count_and_plot 그리기 함수\n",
    "\n",
    "from collections import Counter\n",
    "from matplotlib import pyplot\n",
    "def count_and_plot(y): \n",
    "    counter = Counter(y)\n",
    "    for k,v in counter.items():\n",
    "        print('Class=%d, n=%d (%.3f%%)' % (k, v, v / len(y) * 100))\n",
    "    pyplot.bar(counter.keys(), counter.values())\n",
    "    pyplot.show()\n",
    "    "
   ]
  },
  {
   "cell_type": "code",
   "execution_count": 17,
   "id": "a39dd3be",
   "metadata": {},
   "outputs": [
    {
     "name": "stdout",
     "output_type": "stream",
     "text": [
      "Class=0, n=9000 (90.000%)\n",
      "Class=1, n=1000 (10.000%)\n"
     ]
    },
    {
     "data": {
      "image/png": "[encoded data removed]",
      "text/plain": [
       "<Figure size 720x216 with 1 Axes>"
      ]
     },
     "metadata": {},
     "output_type": "display_data"
    }
   ],
   "source": [
    "# 데이터셋 가시화 \n",
    "plt.figure(figsize=(10, 3))\n",
    "count_and_plot(y_class)"
   ]
  },
  {
   "cell_type": "code",
   "execution_count": 18,
   "id": "e178ab8d",
   "metadata": {},
   "outputs": [
    {
     "name": "stdout",
     "output_type": "stream",
     "text": [
      "언더 샘플링_원본 데이터 결과 : 3-Fold CV f1 score: 0.9886\n"
     ]
    }
   ],
   "source": [
    "Randomforest_Result(X_data, y_class, \"언더 샘플링_원본 데이터 결과\")"
   ]
  },
  {
   "cell_type": "markdown",
   "id": "8f1c5694",
   "metadata": {},
   "source": [
    "### 2) Random Under sampling"
   ]
  },
  {
   "cell_type": "code",
   "execution_count": 19,
   "id": "854bdc22",
   "metadata": {},
   "outputs": [],
   "source": [
    "# sampling_strategy \n",
    "# - 'majority'(소수 집단과 동일하게 샘플링)\n",
    "# - 0과 1 사이의 숫자를 지정(소수 집단 데이터수 / 다수 집단 데이터수)하여 샘플링 \n",
    "under_random = RandomUnderSampler(sampling_strategy='majority')\n",
    "X_random, y_random = under_random.fit_resample(X_data, y_class)"
   ]
  },
  {
   "cell_type": "code",
   "execution_count": 20,
   "id": "48f411a7",
   "metadata": {},
   "outputs": [
    {
     "name": "stdout",
     "output_type": "stream",
     "text": [
      "Class=0, n=1000 (50.000%)\n",
      "Class=1, n=1000 (50.000%)\n"
     ]
    },
    {
     "data": {
      "image/png": "[encoded data removed]",
      "text/plain": [
       "<Figure size 360x216 with 1 Axes>"
      ]
     },
     "metadata": {},
     "output_type": "display_data"
    }
   ],
   "source": [
    "plt.figure(figsize=(5, 3))\n",
    "count_and_plot(y_random)"
   ]
  },
  {
   "cell_type": "code",
   "execution_count": 21,
   "id": "ccc957c9",
   "metadata": {},
   "outputs": [
    {
     "name": "stdout",
     "output_type": "stream",
     "text": [
      "언더 샘플링_램던언더샘플링_데이터 결과 : 3-Fold CV f1 score: 0.9956\n"
     ]
    }
   ],
   "source": [
    "Randomforest_Result(X_random, y_random, \"언더 샘플링_램던언더샘플링_데이터 결과\")"
   ]
  },
  {
   "cell_type": "code",
   "execution_count": 22,
   "id": "ac24102a",
   "metadata": {},
   "outputs": [],
   "source": [
    "# sampling_strategy\n",
    "# 0과 1 사이의 숫자를 지정(소수 집단 데이터수 / 다수 집단 데이터수)하여 샘플링 \n",
    "under_random_05 = RandomUnderSampler(sampling_strategy = 0.5) \n",
    "X_random_05, y_random_05 = under_random_05.fit_resample(X_data, y_class)"
   ]
  },
  {
   "cell_type": "code",
   "execution_count": 23,
   "id": "885ac952",
   "metadata": {},
   "outputs": [
    {
     "name": "stdout",
     "output_type": "stream",
     "text": [
      "Class=0, n=2000 (66.667%)\n",
      "Class=1, n=1000 (33.333%)\n"
     ]
    },
    {
     "data": {
      "image/png": "[encoded data removed]",
      "text/plain": [
       "<Figure size 360x216 with 1 Axes>"
      ]
     },
     "metadata": {},
     "output_type": "display_data"
    }
   ],
   "source": [
    "plt.figure(figsize=(5, 3))\n",
    "count_and_plot(y_random_05)"
   ]
  },
  {
   "cell_type": "code",
   "execution_count": 24,
   "id": "7ea33ce5",
   "metadata": {},
   "outputs": [
    {
     "name": "stdout",
     "output_type": "stream",
     "text": [
      "언더 샘플링_랜덤언더샘플링_비율:0.5_데이터 결과 : 3-Fold CV f1 score: 0.9921\n"
     ]
    }
   ],
   "source": [
    "Randomforest_Result(X_random_05, y_random_05, \"언더 샘플링_랜덤언더샘플링_비율:0.5_데이터 결과\")"
   ]
  },
  {
   "cell_type": "markdown",
   "id": "5063ad93",
   "metadata": {},
   "source": [
    "### 3)TomekLinks"
   ]
  },
  {
   "cell_type": "code",
   "execution_count": 25,
   "id": "15703e93",
   "metadata": {},
   "outputs": [],
   "source": [
    "#토멕링크 \n",
    "tl = TomekLinks()\n",
    "X_tl, y_tl = tl.fit_resample(X_data, y_class)"
   ]
  },
  {
   "cell_type": "code",
   "execution_count": 26,
   "id": "42f8f77a",
   "metadata": {},
   "outputs": [
    {
     "name": "stdout",
     "output_type": "stream",
     "text": [
      "Class=0, n=8993 (89.993%)\n",
      "Class=1, n=1000 (10.007%)\n"
     ]
    },
    {
     "data": {
      "image/png": "[encoded data removed]",
      "text/plain": [
       "<Figure size 360x216 with 1 Axes>"
      ]
     },
     "metadata": {},
     "output_type": "display_data"
    }
   ],
   "source": [
    "plt.figure(figsize=(5, 3))\n",
    "count_and_plot(y_tl)"
   ]
  },
  {
   "cell_type": "code",
   "execution_count": 27,
   "id": "f3e21577",
   "metadata": {},
   "outputs": [
    {
     "name": "stdout",
     "output_type": "stream",
     "text": [
      "언더 샘플링_토멕링크_데이터 결과 : 3-Fold CV f1 score: 0.9898\n"
     ]
    }
   ],
   "source": [
    "Randomforest_Result(X_tl, y_tl, \"언더 샘플링_토멕링크_데이터 결과\")"
   ]
  },
  {
   "cell_type": "markdown",
   "id": "5ca02e37",
   "metadata": {},
   "source": [
    "### 4) OSS(OneSidedSelection)"
   ]
  },
  {
   "cell_type": "code",
   "execution_count": 28,
   "id": "ef5ddbb9",
   "metadata": {},
   "outputs": [],
   "source": [
    "# OSS(OneSidedSelection)\n",
    "oss = OneSidedSelection(random_state=42)\n",
    "X_oss, y_oss = oss.fit_resample(X_data, y_class)"
   ]
  },
  {
   "cell_type": "code",
   "execution_count": 29,
   "id": "256a4099",
   "metadata": {},
   "outputs": [
    {
     "name": "stdout",
     "output_type": "stream",
     "text": [
      "Class=0, n=7666 (88.461%)\n",
      "Class=1, n=1000 (11.539%)\n"
     ]
    },
    {
     "data": {
      "image/png": "[encoded data removed]",
      "text/plain": [
       "<Figure size 360x216 with 1 Axes>"
      ]
     },
     "metadata": {},
     "output_type": "display_data"
    }
   ],
   "source": [
    "plt.figure(figsize=(5, 3))\n",
    "count_and_plot(y_oss)"
   ]
  },
  {
   "cell_type": "code",
   "execution_count": 30,
   "id": "48e38cf7",
   "metadata": {},
   "outputs": [
    {
     "name": "stdout",
     "output_type": "stream",
     "text": [
      "언더 샘플링_OSS_데이터 결과 : 3-Fold CV f1 score: 0.9891\n"
     ]
    }
   ],
   "source": [
    "Randomforest_Result(X_oss, y_oss, \"언더 샘플링_OSS_데이터 결과\")"
   ]
  },
  {
   "cell_type": "markdown",
   "id": "0b141efe",
   "metadata": {},
   "source": [
    "## 4. Oversampling "
   ]
  },
  {
   "cell_type": "markdown",
   "id": "bda406fc",
   "metadata": {},
   "source": [
    "### 1) 데이터 셋 준비 및 확인 "
   ]
  },
  {
   "cell_type": "code",
   "execution_count": 31,
   "id": "ec8b434d",
   "metadata": {},
   "outputs": [
    {
     "name": "stdout",
     "output_type": "stream",
     "text": [
      "(10000, 20)\n",
      "Class=0, n=9000 (90.000%)\n",
      "Class=1, n=1000 (10.000%)\n"
     ]
    },
    {
     "data": {
      "image/png": "[encoded data removed]",
      "text/plain": [
       "<Figure size 360x288 with 1 Axes>"
      ]
     },
     "metadata": {},
     "output_type": "display_data"
    }
   ],
   "source": [
    "# 데이터 셋 준비 및 확인 \n",
    "X_data, y_class = make_classification(n_classes=2, class_sep=2, n_samples=10000, \n",
    "                                      n_features=20, weights=[0.9, 0.1], flip_y=0,\n",
    "                                      n_clusters_per_class=1, random_state=10)\n",
    "\n",
    "\n",
    "print(X_data.shape)\n",
    "y_class.shape\n",
    "\n",
    "plt.figure(figsize=(5, 4))\n",
    "count_and_plot(y_class)"
   ]
  },
  {
   "cell_type": "code",
   "execution_count": 32,
   "id": "db3d4343",
   "metadata": {},
   "outputs": [
    {
     "name": "stdout",
     "output_type": "stream",
     "text": [
      "오버 샘플링_원본 데이터 결과 : 3-Fold CV f1 score: 0.9889\n"
     ]
    }
   ],
   "source": [
    "Randomforest_Result(X_data, y_class, \"오버 샘플링_원본 데이터 결과\")"
   ]
  },
  {
   "cell_type": "markdown",
   "id": "d00af683",
   "metadata": {},
   "source": [
    "### 2) Random over sampling "
   ]
  },
  {
   "cell_type": "code",
   "execution_count": 33,
   "id": "6bb48c66",
   "metadata": {},
   "outputs": [],
   "source": [
    "# 랜덤오버샘플링 \n",
    "ros = RandomOverSampler(random_state=42)\n",
    "X_ros, y_ros = ros.fit_resample(X_data, y_class)"
   ]
  },
  {
   "cell_type": "code",
   "execution_count": 34,
   "id": "8b71da7d",
   "metadata": {},
   "outputs": [
    {
     "name": "stdout",
     "output_type": "stream",
     "text": [
      "Class=0, n=9000 (50.000%)\n",
      "Class=1, n=9000 (50.000%)\n"
     ]
    },
    {
     "data": {
      "image/png": "[encoded data removed]",
      "text/plain": [
       "<Figure size 360x216 with 1 Axes>"
      ]
     },
     "metadata": {},
     "output_type": "display_data"
    }
   ],
   "source": [
    "plt.figure(figsize=(5, 3))\n",
    "count_and_plot(y_ros)"
   ]
  },
  {
   "cell_type": "code",
   "execution_count": 35,
   "id": "32a34fd5",
   "metadata": {},
   "outputs": [
    {
     "name": "stdout",
     "output_type": "stream",
     "text": [
      "오버 샘플링_랜덤오버샘플링 결과 : 3-Fold CV f1 score: 0.9889\n"
     ]
    }
   ],
   "source": [
    "Randomforest_Result(X_data, y_class, \"오버 샘플링_랜덤오버샘플링 결과\")"
   ]
  },
  {
   "cell_type": "markdown",
   "id": "6c8cc415",
   "metadata": {},
   "source": [
    "### 3) SMOTE"
   ]
  },
  {
   "cell_type": "code",
   "execution_count": 36,
   "id": "bac35d3e",
   "metadata": {},
   "outputs": [],
   "source": [
    "# SMOTE \n",
    "smote = SMOTE()\n",
    "X_sm, y_sm = smote.fit_resample(X_data, y_class)"
   ]
  },
  {
   "cell_type": "code",
   "execution_count": 37,
   "id": "b1948887",
   "metadata": {},
   "outputs": [
    {
     "name": "stdout",
     "output_type": "stream",
     "text": [
      "Class=0, n=9000 (50.000%)\n",
      "Class=1, n=9000 (50.000%)\n"
     ]
    },
    {
     "data": {
      "image/png": "[encoded data removed]",
      "text/plain": [
       "<Figure size 360x216 with 1 Axes>"
      ]
     },
     "metadata": {},
     "output_type": "display_data"
    }
   ],
   "source": [
    "plt.figure(figsize=(5, 3))\n",
    "count_and_plot(y_sm)"
   ]
  },
  {
   "cell_type": "code",
   "execution_count": 38,
   "id": "e536cffd",
   "metadata": {},
   "outputs": [
    {
     "name": "stdout",
     "output_type": "stream",
     "text": [
      "오버 샘플링_SMOTE 결과 : 3-Fold CV f1 score: 0.9984\n"
     ]
    }
   ],
   "source": [
    "Randomforest_Result(X_sm, y_sm, \"오버 샘플링_SMOTE 결과\")"
   ]
  },
  {
   "cell_type": "markdown",
   "id": "c17c4944",
   "metadata": {},
   "source": [
    "### 4) ADASYN"
   ]
  },
  {
   "cell_type": "code",
   "execution_count": 39,
   "id": "72290e63",
   "metadata": {},
   "outputs": [],
   "source": [
    "# ADASYN\n",
    "ada = ADASYN(random_state=42)\n",
    "X_ada, y_ada = ada.fit_resample(X_data, y_class)"
   ]
  },
  {
   "cell_type": "code",
   "execution_count": 40,
   "id": "ee6222b5",
   "metadata": {},
   "outputs": [
    {
     "name": "stdout",
     "output_type": "stream",
     "text": [
      "Class=0, n=9000 (49.972%)\n",
      "Class=1, n=9010 (50.028%)\n"
     ]
    },
    {
     "data": {
      "image/png": "[encoded data removed]",
      "text/plain": [
       "<Figure size 360x216 with 1 Axes>"
      ]
     },
     "metadata": {},
     "output_type": "display_data"
    }
   ],
   "source": [
    "plt.figure(figsize=(5, 3))\n",
    "count_and_plot(y_ada)"
   ]
  },
  {
   "cell_type": "code",
   "execution_count": 41,
   "id": "00807428",
   "metadata": {},
   "outputs": [
    {
     "name": "stdout",
     "output_type": "stream",
     "text": [
      "오버 샘플링_ADASYN 결과 : 3-Fold CV f1 score: 0.9987\n"
     ]
    }
   ],
   "source": [
    "Randomforest_Result(X_ada, y_ada, \"오버 샘플링_ADASYN 결과\")"
   ]
  },
  {
   "cell_type": "markdown",
   "id": "9b3372ab",
   "metadata": {},
   "source": [
    "### 5) Boderline SMOTE"
   ]
  },
  {
   "cell_type": "code",
   "execution_count": 42,
   "id": "a7a18548",
   "metadata": {},
   "outputs": [],
   "source": [
    "# Boderline SMOTE\n",
    "bor_sm = BorderlineSMOTE(random_state=42)\n",
    "X_bor_sm, y_bor_sm = bor_sm.fit_resample(X_data, y_class)"
   ]
  },
  {
   "cell_type": "code",
   "execution_count": 43,
   "id": "b56135b8",
   "metadata": {},
   "outputs": [
    {
     "name": "stdout",
     "output_type": "stream",
     "text": [
      "Class=0, n=9000 (50.000%)\n",
      "Class=1, n=9000 (50.000%)\n"
     ]
    },
    {
     "data": {
      "image/png": "[encoded data removed]",
      "text/plain": [
       "<Figure size 360x216 with 1 Axes>"
      ]
     },
     "metadata": {},
     "output_type": "display_data"
    }
   ],
   "source": [
    "plt.figure(figsize=(5, 3))\n",
    "count_and_plot(y_bor_sm)"
   ]
  },
  {
   "cell_type": "code",
   "execution_count": 44,
   "id": "a61e385f",
   "metadata": {},
   "outputs": [
    {
     "name": "stdout",
     "output_type": "stream",
     "text": [
      "오버 샘플링_Boderline SMOTE 결과 : 3-Fold CV f1 score: 0.9988\n"
     ]
    }
   ],
   "source": [
    "Randomforest_Result(X_bor_sm, y_bor_sm, \"오버 샘플링_Boderline SMOTE 결과\")"
   ]
  },
  {
   "cell_type": "code",
   "execution_count": null,
   "id": "b75adb37",
   "metadata": {},
   "outputs": [],
   "source": []
  },
  {
   "cell_type": "code",
   "execution_count": null,
   "id": "7742339a",
   "metadata": {},
   "outputs": [],
   "source": []
  },
  {
   "cell_type": "code",
   "execution_count": null,
   "id": "7547dc51",
   "metadata": {},
   "outputs": [],
   "source": []
  },
  {
   "cell_type": "code",
   "execution_count": null,
   "id": "1ce190d9",
   "metadata": {},
   "outputs": [],
   "source": []
  },
  {
   "cell_type": "code",
   "execution_count": null,
   "id": "85312a04",
   "metadata": {},
   "outputs": [],
   "source": []
  }
 ],
 "metadata": {
  "kernelspec": {
   "display_name": "Python 3",
   "language": "python",
   "name": "python3"
  },
  "language_info": {
   "codemirror_mode": {
    "name": "ipython",
    "version": 3
   },
   "file_extension": ".py",
   "mimetype": "text/x-python",
   "name": "python",
   "nbconvert_exporter": "python",
   "pygments_lexer": "ipython3",
   "version": "3.6.13"
  }
 },
 "nbformat": 4,
 "nbformat_minor": 5
}
