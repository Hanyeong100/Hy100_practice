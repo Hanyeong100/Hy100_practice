{
 "cells": [
  {
   "cell_type": "markdown",
   "id": "d1353097",
   "metadata": {},
   "source": [
    "# 범주형 데이터의 실수화와 범주형 변수의 연속형 변수 변환"
   ]
  },
  {
   "cell_type": "markdown",
   "id": "376b09f1",
   "metadata": {},
   "source": [
    "## 1. 범주형 데이터의 실수화"
   ]
  },
  {
   "cell_type": "markdown",
   "id": "ff816d77",
   "metadata": {},
   "source": [
    "### 1) 필요 라이브러리 Import "
   ]
  },
  {
   "cell_type": "code",
   "execution_count": 114,
   "id": "42f2b5a0",
   "metadata": {},
   "outputs": [],
   "source": [
    "import pandas as pd   # pandas package 임포트\n",
    "from sklearn.preprocessing import LabelEncoder # 범주형 데이터의 실수화 함수 임포트 \n",
    "from sklearn.preprocessing import OneHotEncoder # 더미 변수 생성,가변환 함수 임포트 "
   ]
  },
  {
   "cell_type": "markdown",
   "id": "0e40205e",
   "metadata": {},
   "source": [
    "###  2) 데이터 set 생성 및 확인 "
   ]
  },
  {
   "cell_type": "code",
   "execution_count": 115,
   "id": "004a2d6e",
   "metadata": {},
   "outputs": [],
   "source": [
    "# 데이터 set 생성 \n",
    "x_train = pd.DataFrame([\"남성\", \"여성\",\"남성\",\"여성\",\"남성\",\"여성\"], columns=[\"성별\"]) "
   ]
  },
  {
   "cell_type": "code",
   "execution_count": 116,
   "id": "acb97927",
   "metadata": {},
   "outputs": [
    {
     "data": {
      "text/html": [
       "<div>\n",
       "<style scoped>\n",
       "    .dataframe tbody tr th:only-of-type {\n",
       "        vertical-align: middle;\n",
       "    }\n",
       "\n",
       "    .dataframe tbody tr th {\n",
       "        vertical-align: top;\n",
       "    }\n",
       "\n",
       "    .dataframe thead th {\n",
       "        text-align: right;\n",
       "    }\n",
       "</style>\n",
       "<table border=\"1\" class=\"dataframe\">\n",
       "  <thead>\n",
       "    <tr style=\"text-align: right;\">\n",
       "      <th></th>\n",
       "      <th>성별</th>\n",
       "    </tr>\n",
       "  </thead>\n",
       "  <tbody>\n",
       "    <tr>\n",
       "      <th>0</th>\n",
       "      <td>남성</td>\n",
       "    </tr>\n",
       "    <tr>\n",
       "      <th>1</th>\n",
       "      <td>여성</td>\n",
       "    </tr>\n",
       "    <tr>\n",
       "      <th>2</th>\n",
       "      <td>남성</td>\n",
       "    </tr>\n",
       "  </tbody>\n",
       "</table>\n",
       "</div>"
      ],
      "text/plain": [
       "   성별\n",
       "0  남성\n",
       "1  여성\n",
       "2  남성"
      ]
     },
     "execution_count": 116,
     "metadata": {},
     "output_type": "execute_result"
    }
   ],
   "source": [
    "# 데이터 확인 \n",
    "x_train.head(3) "
   ]
  },
  {
   "cell_type": "code",
   "execution_count": 117,
   "id": "b6b581d6",
   "metadata": {
    "scrolled": true
   },
   "outputs": [
    {
     "name": "stdout",
     "output_type": "stream",
     "text": [
      "<class 'pandas.core.frame.DataFrame'>\n",
      "RangeIndex: 6 entries, 0 to 5\n",
      "Data columns (total 1 columns):\n",
      " #   Column  Non-Null Count  Dtype \n",
      "---  ------  --------------  ----- \n",
      " 0   성별      6 non-null      object\n",
      "dtypes: object(1)\n",
      "memory usage: 176.0+ bytes\n"
     ]
    }
   ],
   "source": [
    "x_train.info()  # 데이터 프레임의 정보 확인 : object 타입 '성별' 변수 "
   ]
  },
  {
   "cell_type": "code",
   "execution_count": 118,
   "id": "1d583c5b",
   "metadata": {},
   "outputs": [
    {
     "data": {
      "text/plain": [
       "남성    3\n",
       "여성    3\n",
       "Name: 성별, dtype: int64"
      ]
     },
     "execution_count": 118,
     "metadata": {},
     "output_type": "execute_result"
    }
   ],
   "source": [
    "x_train['성별'].value_counts()  # 범주형 데이터의 갯수 확인 "
   ]
  },
  {
   "cell_type": "markdown",
   "id": "751a5a1d",
   "metadata": {},
   "source": [
    "### 3) 레이블 인코딩 : 문자를 0부터 시작하는 정수형 숫자로 변환 "
   ]
  },
  {
   "cell_type": "code",
   "execution_count": 119,
   "id": "9f0ed9c3",
   "metadata": {},
   "outputs": [],
   "source": [
    "# 레이블 인코더 생성 \n",
    "encoing = LabelEncoder()  \n",
    "# X_train 데이터를 이용하여 피팅하고 레이블 숫자로 변환\n",
    "encoing.fit(x_train[\"성별\"])\n",
    "# \n",
    "x_train[\"성별_인코딩\"] = encoing.transform(x_train[\"성별\"])"
   ]
  },
  {
   "cell_type": "markdown",
   "id": "97c1cd37",
   "metadata": {},
   "source": [
    "### 4) 인코딩 결과 확인 "
   ]
  },
  {
   "cell_type": "code",
   "execution_count": 120,
   "id": "fe658876",
   "metadata": {},
   "outputs": [
    {
     "data": {
      "text/html": [
       "<div>\n",
       "<style scoped>\n",
       "    .dataframe tbody tr th:only-of-type {\n",
       "        vertical-align: middle;\n",
       "    }\n",
       "\n",
       "    .dataframe tbody tr th {\n",
       "        vertical-align: top;\n",
       "    }\n",
       "\n",
       "    .dataframe thead th {\n",
       "        text-align: right;\n",
       "    }\n",
       "</style>\n",
       "<table border=\"1\" class=\"dataframe\">\n",
       "  <thead>\n",
       "    <tr style=\"text-align: right;\">\n",
       "      <th></th>\n",
       "      <th>성별</th>\n",
       "      <th>성별_인코딩</th>\n",
       "    </tr>\n",
       "  </thead>\n",
       "  <tbody>\n",
       "    <tr>\n",
       "      <th>0</th>\n",
       "      <td>남성</td>\n",
       "      <td>0</td>\n",
       "    </tr>\n",
       "    <tr>\n",
       "      <th>1</th>\n",
       "      <td>여성</td>\n",
       "      <td>1</td>\n",
       "    </tr>\n",
       "    <tr>\n",
       "      <th>2</th>\n",
       "      <td>남성</td>\n",
       "      <td>0</td>\n",
       "    </tr>\n",
       "    <tr>\n",
       "      <th>3</th>\n",
       "      <td>여성</td>\n",
       "      <td>1</td>\n",
       "    </tr>\n",
       "    <tr>\n",
       "      <th>4</th>\n",
       "      <td>남성</td>\n",
       "      <td>0</td>\n",
       "    </tr>\n",
       "    <tr>\n",
       "      <th>5</th>\n",
       "      <td>여성</td>\n",
       "      <td>1</td>\n",
       "    </tr>\n",
       "  </tbody>\n",
       "</table>\n",
       "</div>"
      ],
      "text/plain": [
       "   성별  성별_인코딩\n",
       "0  남성       0\n",
       "1  여성       1\n",
       "2  남성       0\n",
       "3  여성       1\n",
       "4  남성       0\n",
       "5  여성       1"
      ]
     },
     "execution_count": 120,
     "metadata": {},
     "output_type": "execute_result"
    }
   ],
   "source": [
    "x_train "
   ]
  },
  {
   "cell_type": "code",
   "execution_count": 121,
   "id": "fa9d3234",
   "metadata": {},
   "outputs": [
    {
     "name": "stdout",
     "output_type": "stream",
     "text": [
      "['남성', '여성']\n",
      "['여성', '남성']\n"
     ]
    }
   ],
   "source": [
    "print(list(encoing.classes_))  # 클래스 확인 \n",
    "print(list(encoing.inverse_transform([1,0])))# 인코딩 값으로 문자값 확인 "
   ]
  },
  {
   "cell_type": "markdown",
   "id": "56af5336",
   "metadata": {},
   "source": [
    "## 2. One-Hot Encoding : 더미 변수 생성, 가변환 "
   ]
  },
  {
   "cell_type": "markdown",
   "id": "da2ba569",
   "metadata": {},
   "source": [
    "### 1) 데이터 확인 (실수화 한 데이터 사용)"
   ]
  },
  {
   "cell_type": "code",
   "execution_count": 122,
   "id": "99e20ae1",
   "metadata": {},
   "outputs": [
    {
     "data": {
      "text/html": [
       "<div>\n",
       "<style scoped>\n",
       "    .dataframe tbody tr th:only-of-type {\n",
       "        vertical-align: middle;\n",
       "    }\n",
       "\n",
       "    .dataframe tbody tr th {\n",
       "        vertical-align: top;\n",
       "    }\n",
       "\n",
       "    .dataframe thead th {\n",
       "        text-align: right;\n",
       "    }\n",
       "</style>\n",
       "<table border=\"1\" class=\"dataframe\">\n",
       "  <thead>\n",
       "    <tr style=\"text-align: right;\">\n",
       "      <th></th>\n",
       "      <th>성별</th>\n",
       "      <th>성별_인코딩</th>\n",
       "    </tr>\n",
       "  </thead>\n",
       "  <tbody>\n",
       "    <tr>\n",
       "      <th>0</th>\n",
       "      <td>남성</td>\n",
       "      <td>0</td>\n",
       "    </tr>\n",
       "    <tr>\n",
       "      <th>1</th>\n",
       "      <td>여성</td>\n",
       "      <td>1</td>\n",
       "    </tr>\n",
       "  </tbody>\n",
       "</table>\n",
       "</div>"
      ],
      "text/plain": [
       "   성별  성별_인코딩\n",
       "0  남성       0\n",
       "1  여성       1"
      ]
     },
     "execution_count": 122,
     "metadata": {},
     "output_type": "execute_result"
    }
   ],
   "source": [
    "x_train.head(2)"
   ]
  },
  {
   "cell_type": "markdown",
   "id": "372b5603",
   "metadata": {},
   "source": [
    "### 2) One-Hot Encoding "
   ]
  },
  {
   "cell_type": "code",
   "execution_count": 131,
   "id": "1d56edac",
   "metadata": {},
   "outputs": [
    {
     "data": {
      "text/plain": [
       "array([[1., 0.],\n",
       "       [0., 1.],\n",
       "       [1., 0.],\n",
       "       [0., 1.],\n",
       "       [1., 0.],\n",
       "       [0., 1.]])"
      ]
     },
     "execution_count": 131,
     "metadata": {},
     "output_type": "execute_result"
    }
   ],
   "source": [
    "# 원 핫 인코더 생성 \n",
    "# sparse를 True로 할 경우 \"(행, 열) 1\"의 좌표리스트의 형식, False로 할 경우 넘파이 배열로 반환\n",
    "one_encoding = OneHotEncoder(sparse=False) \n",
    "\n",
    "# X_train 데이터를 이용하여 피팅 \n",
    "one_encoding.fit(x_train[[\"성별\"]])\n",
    "\n",
    "# 가변환 값 변환 \n",
    "one_encoding.transform(x_train[[\"성별\"]])\n",
    "\n",
    "# one_encoding.fit_transform(x_train[[\"성별\"]])"
   ]
  },
  {
   "cell_type": "code",
   "execution_count": 132,
   "id": "b8a0b31f",
   "metadata": {},
   "outputs": [
    {
     "name": "stdout",
     "output_type": "stream",
     "text": [
      "['x0_남성' 'x0_여성']\n"
     ]
    }
   ],
   "source": [
    "# 가변환 된 피쳐 확인\n",
    "print(one_encoding.get_feature_names()) "
   ]
  },
  {
   "cell_type": "markdown",
   "id": "633e61c6",
   "metadata": {},
   "source": [
    "### 3) 인코딩 결과 확인 "
   ]
  },
  {
   "cell_type": "code",
   "execution_count": 133,
   "id": "ed663b78",
   "metadata": {},
   "outputs": [],
   "source": [
    "# 가변환 된 값을 x_train_one 데이터 프레임으로 저장 \n",
    "x_train_one = pd.DataFrame(one_encoding.transform(x_train[['성별']]), columns=['성별0', '성별1'])"
   ]
  },
  {
   "cell_type": "code",
   "execution_count": 134,
   "id": "f4466803",
   "metadata": {},
   "outputs": [],
   "source": [
    "# x_train 데이터와 x_train_one의 가변환된 속성 합침 \n",
    "x_train = pd.concat([x_train,x_train_one], axis=1)"
   ]
  },
  {
   "cell_type": "code",
   "execution_count": 135,
   "id": "7dbc03d8",
   "metadata": {},
   "outputs": [
    {
     "data": {
      "text/html": [
       "<div>\n",
       "<style scoped>\n",
       "    .dataframe tbody tr th:only-of-type {\n",
       "        vertical-align: middle;\n",
       "    }\n",
       "\n",
       "    .dataframe tbody tr th {\n",
       "        vertical-align: top;\n",
       "    }\n",
       "\n",
       "    .dataframe thead th {\n",
       "        text-align: right;\n",
       "    }\n",
       "</style>\n",
       "<table border=\"1\" class=\"dataframe\">\n",
       "  <thead>\n",
       "    <tr style=\"text-align: right;\">\n",
       "      <th></th>\n",
       "      <th>성별</th>\n",
       "      <th>성별_인코딩</th>\n",
       "      <th>성별0</th>\n",
       "      <th>성별1</th>\n",
       "    </tr>\n",
       "  </thead>\n",
       "  <tbody>\n",
       "    <tr>\n",
       "      <th>0</th>\n",
       "      <td>남성</td>\n",
       "      <td>0</td>\n",
       "      <td>1.0</td>\n",
       "      <td>0.0</td>\n",
       "    </tr>\n",
       "    <tr>\n",
       "      <th>1</th>\n",
       "      <td>여성</td>\n",
       "      <td>1</td>\n",
       "      <td>0.0</td>\n",
       "      <td>1.0</td>\n",
       "    </tr>\n",
       "    <tr>\n",
       "      <th>2</th>\n",
       "      <td>남성</td>\n",
       "      <td>0</td>\n",
       "      <td>1.0</td>\n",
       "      <td>0.0</td>\n",
       "    </tr>\n",
       "  </tbody>\n",
       "</table>\n",
       "</div>"
      ],
      "text/plain": [
       "   성별  성별_인코딩  성별0  성별1\n",
       "0  남성       0  1.0  0.0\n",
       "1  여성       1  0.0  1.0\n",
       "2  남성       0  1.0  0.0"
      ]
     },
     "execution_count": 135,
     "metadata": {},
     "output_type": "execute_result"
    }
   ],
   "source": [
    "# 결과 확인 \n",
    "x_train.head(3)"
   ]
  },
  {
   "cell_type": "code",
   "execution_count": null,
   "id": "79140a80",
   "metadata": {},
   "outputs": [],
   "source": []
  }
 ],
 "metadata": {
  "kernelspec": {
   "display_name": "Python 3",
   "language": "python",
   "name": "python3"
  },
  "language_info": {
   "codemirror_mode": {
    "name": "ipython",
    "version": 3
   },
   "file_extension": ".py",
   "mimetype": "text/x-python",
   "name": "python",
   "nbconvert_exporter": "python",
   "pygments_lexer": "ipython3",
   "version": "3.6.13"
  }
 },
 "nbformat": 4,
 "nbformat_minor": 5
}
