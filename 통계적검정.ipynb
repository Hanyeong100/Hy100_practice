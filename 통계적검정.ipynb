{
 "cells": [
  {
   "cell_type": "markdown",
   "id": "6c57b9a3",
   "metadata": {},
   "source": [
    "# 통계적 검정 방법 "
   ]
  },
  {
   "cell_type": "code",
   "execution_count": 1,
   "id": "b78d34a7",
   "metadata": {},
   "outputs": [],
   "source": [
    "# 패키지 임포트 \n",
    "import os \n",
    "import warnings\n",
    "warnings.simplefilter(action='ignore', category=FutureWarning) # FutureWarning 제거\n",
    "\n",
    "import pandas as pd # pandas package\n",
    "import numpy as np  # numpy package  \n",
    "import math\n",
    "from scipy import stats  # Scipy Package \n",
    "\n",
    "# 시각화 패키지 \n",
    "import matplotlib.pyplot as plt #  matplotlib 시각화 패키지 \n",
    "import seaborn as sns\n",
    "%matplotlib inline\n",
    "\n",
    "\n",
    "# os에 따른 Font 깨짐 제거를 위해 Font 지정 \n",
    "import os \n",
    "if os.name == 'nt' :  # Windows OS \n",
    "    font_family = \"Malgun Gothic\"\n",
    "else: # MAC OS \n",
    "    font_family = \"AppleGothic\"\n",
    "    \n",
    "# - 값이 깨지는 문제 해결을 위해 파라미터 값 설정 \n",
    "sns.set(font=font_family, rc ={\"axes.unicode_minus\" : False})  "
   ]
  },
  {
   "cell_type": "markdown",
   "id": "b3c395bb",
   "metadata": {},
   "source": [
    "## statsmodels 패키지\n",
    "- statsmodel 패키지는 추정 및 검정, 회귀분석, 시계열분석 등의 기능을 제공하는 파이썬 패키지\n",
    "- 예제 데이터셋\n",
    "- 검정 및 모수추정\n",
    "- 회귀분석\n",
    "- 선형회귀\n",
    "- 강건회귀\n",
    "- 일반화 선형모형\n",
    "- 혼합효과모형\n",
    "- 이산종속변수\n",
    "- 시계열 분석\n",
    "- ... \n",
    "- 요인분석\n",
    "\n",
    "### StatsModels에서 제공하는 정규성검정 명령어\n",
    "\n",
    "- 콜모고로프-스미르노프 검정(Kolmogorov-Smirnov test) : statsmodels.stats.diagnostic.kstest_normal\n",
    "- 옴니버스 검정(Omnibus Normality test) : statsmodels.stats.stattools.omni_normtest\n",
    "- 자크-베라 검정(Jarque–Bera test) : statsmodels.stats.stattools.jarque_bera\n",
    "- 릴리포스 검정(Lilliefors test) : statsmodels.stats.diagnostic.lillifors\n",
    "\n",
    "### 사이파이 에서 제공하는 정규성검정 명령어\n",
    "\n",
    "- 콜모고로프-스미르노프 검정(Kolmogorov-Smirnov test) : scipy.stats.ks_2samp\n",
    "- 샤피로-윌크 검정(Shapiro–Wilk test) : scipy.stats.shapiro\n",
    "- 앤더스-달링 검정(Anderson–Darling test) : scipy.stats.anderson\n",
    "- 다고스티노 K-제곱 검정(D'Agostino's K-squared test) : scipy.stats.mstats.normaltest\n"
   ]
  },
  {
   "cell_type": "markdown",
   "id": "70cfaffa",
   "metadata": {},
   "source": [
    "## 1. t검정\n",
    "### 1) 일표본 t-검정 (one sample t-test)\n",
    "- stats.ttest_1samp() 이용(alternative :{‘two-sided’, ‘less’, ‘greater’})\n",
    "- stats.shapiro 정규성 검정\n",
    "- numpy의 std는 모표준편차(ddof=0)이 기본값  \n",
    "- pandas의 std는 표본표준편차(ddof=1)이 기본값 "
   ]
  },
  {
   "cell_type": "markdown",
   "id": "dd01a488",
   "metadata": {},
   "source": [
    "#### 증명하고자 하는 가설 \n",
    "아이리포 중학교 1학년의 평균키는 175cm로 알려져있다. 실제로도 그러한지 알아보기 위해 학새 14명을 임의로 뽑아서 키를 측정 하였다. \n",
    "해당 데이터를 가지고 아이리포 중학교 1학년 학생의 평균 키는 175cm와 같다고 할 수 있는지 검정해보자\n",
    "- 귀무가설 : 아이리포 중학교 1학년의 평균키는 175cm이다. \n",
    "- 대립가설 : 아이리포 중학교 1학년의 평균키는 175cm가 아니다. "
   ]
  },
  {
   "cell_type": "code",
   "execution_count": 2,
   "id": "645d17e1",
   "metadata": {},
   "outputs": [],
   "source": [
    "# 모집단 데이터 \n",
    "data = [177.3, 182.7, 169.6, 160, 180.3, 179.4, 178.5, 177.2, 181.8, 176.5, 190, 185, 167, 171]"
   ]
  },
  {
   "cell_type": "code",
   "execution_count": 3,
   "id": "1b14b903",
   "metadata": {},
   "outputs": [
    {
     "data": {
      "text/plain": [
       "ShapiroResult(statistic=0.9641273021697998, pvalue=0.7900116443634033)"
      ]
     },
     "execution_count": 3,
     "metadata": {},
     "output_type": "execute_result"
    }
   ],
   "source": [
    "### 데이터의 정규성 검정 : pvalue > 0.05이면 정규성을 따름 \n",
    "stats.shapiro(data)"
   ]
  },
  {
   "cell_type": "markdown",
   "id": "a66bc899",
   "metadata": {},
   "source": [
    "#### stats.ttest_1samp 로 검정통계량 계산 "
   ]
  },
  {
   "cell_type": "code",
   "execution_count": 4,
   "id": "8c1a3310",
   "metadata": {},
   "outputs": [
    {
     "name": "stdout",
     "output_type": "stream",
     "text": [
      "t검정 통계량 = 0.903, pvalue = 0.383\n"
     ]
    }
   ],
   "source": [
    "## stats.ttest_1samp 로 검정통계량 계산 \n",
    "\n",
    "# 유의 수준 0.05 \n",
    "m_a = 0.05 \n",
    "\n",
    "# 알려진 평균 확인 \n",
    "s_mu = 175\n",
    "one_sample_result = stats.ttest_1samp(data, popmean = s_mu)   \n",
    "\n",
    "print('t검정 통계량 = %.3f, pvalue = %.3f'%(one_sample_result))  "
   ]
  },
  {
   "cell_type": "markdown",
   "id": "89617fd3",
   "metadata": {},
   "source": [
    "#### 검정통계량 직접 계산"
   ]
  },
  {
   "cell_type": "code",
   "execution_count": 5,
   "id": "5ae9a207",
   "metadata": {},
   "outputs": [
    {
     "name": "stdout",
     "output_type": "stream",
     "text": [
      "14\n",
      "176.87857142857143\n",
      "7.782443611837389\n",
      "t검정 통계량 : 0.903\n",
      "p_value(유의확률): 0.383\n"
     ]
    }
   ],
   "source": [
    "## 검정통계량 직접 계산\n",
    "\n",
    "# 표본 수 \n",
    "n = len(data)\n",
    "print(len(data))\n",
    "\n",
    "hysis_mu = np.mean(data)\n",
    "print(np.mean(data))\n",
    "\n",
    "# 알려진 평균 \n",
    "s_mu = 175 \n",
    "# 표본 표준 편차 \n",
    "s_sigma = np.std(data,ddof=1)\n",
    "print(np.std(data,ddof=1))\n",
    "\n",
    "# 통계량 t값 계산 \n",
    "t_value = (hysis_mu - s_mu) / (s_sigma / np.sqrt(n)) \n",
    "\n",
    "print('t검정 통계량 :', round(t_value,3))\n",
    "\n",
    "# p_value(유의확률) 계산 \n",
    "print('p_value(유의확률):', round((1- stats.t(df=13).cdf(t_value) )*2, 3 ))"
   ]
  },
  {
   "cell_type": "code",
   "execution_count": 6,
   "id": "99ef9dad",
   "metadata": {},
   "outputs": [
    {
     "name": "stdout",
     "output_type": "stream",
     "text": [
      "유의수준: 0.05\n",
      "기각값: 2.160368656461013\n"
     ]
    }
   ],
   "source": [
    "## 기각값 \n",
    "# 유의 수준 0.05 \n",
    "print('유의수준:', m_a)\n",
    "\n",
    "# 기각값 \n",
    "t_95 = stats.t.ppf(1 - (1-0.95)/2, df=n-1) \n",
    "\n",
    "print('기각값:', t_95)"
   ]
  },
  {
   "cell_type": "markdown",
   "id": "f455200b",
   "metadata": {},
   "source": [
    "#### 결론 \n",
    "- 검정 통계량 검정: 0.903은 채택역에 속함(기각역 2.16) \n",
    "- P-value 검정: 0.05(유의수준) < 0.383(p-value), 귀무가설 채택 \n",
    "- 아이리포 중학교 1학년의 평균키는 175cm이다."
   ]
  },
  {
   "cell_type": "code",
   "execution_count": 7,
   "id": "bc19184e",
   "metadata": {},
   "outputs": [
    {
     "name": "stdout",
     "output_type": "stream",
     "text": [
      "172.38512226641154 < 176.87857142857143 < 181.37202059073132\n"
     ]
    }
   ],
   "source": [
    "## 신뢰구간 산출\n",
    "from numpy import array,mean\n",
    "from scipy.stats import sem,t\n",
    "\n",
    "# 신뢰구간 계산 함수 \n",
    "def mean_confidence_interval(data, ci =.95):\n",
    "    a = 1.0 * array(data)\n",
    "    n = len(a)\n",
    "    m, se = mean(a), sem(a)\n",
    "    h = se * t._ppf((1 + ci) / 2, n-1)\n",
    "    print(\"{} < {} < {}\".format(m-h, m, m+h)) \n",
    "    return \n",
    "\n",
    "mean_confidence_interval(data)"
   ]
  },
  {
   "cell_type": "markdown",
   "id": "b1ad80bc",
   "metadata": {},
   "source": [
    "### 2) 대응표본 t-검정 (paired sample t-test) \n",
    " - stats.ttest_rel(before_data, after_data) "
   ]
  },
  {
   "cell_type": "markdown",
   "id": "ffd4fe09",
   "metadata": {},
   "source": [
    "#### 증명하고자 하는 가설 \n",
    "10명의 환자를 대상으로 비타민을 복용하기 전과 후의 수면시간을 측정하여 비타민의 효과가 있는지를 판단하고자 한다. \n",
    "표본이 정규성을 만족한다는 가정하에 수면시간의 차이가 줄어 들었는지 검정 \n",
    "- 귀무가설 : 수면영양제를 복용하기 전과 후의 평균 수면시간에는 차이가 없다.(D=0)\n",
    "- 대립가설 : 수면영양제를 복용하기 전과 후의 평균 수면시간 차이는 0보다 작다.(D<0)"
   ]
  },
  {
   "cell_type": "code",
   "execution_count": 8,
   "id": "e5330684",
   "metadata": {},
   "outputs": [],
   "source": [
    "# 검정 데이터 관측치 \n",
    "before_data = [7,3,4,5,2,1,6,6,5,4]\n",
    "after_data = [8,4,5,6,2,3,6,8,6,5]\n",
    "\n",
    "check = ['before', 'after']\n",
    "# 데이터 프레임 merge\n",
    "check = [check[j] for j in range(2) for i in range(10)]\n",
    "\n",
    "data = pd.DataFrame({'when':check, 'score':before_data+after_data})"
   ]
  },
  {
   "cell_type": "code",
   "execution_count": 9,
   "id": "94458e5c",
   "metadata": {},
   "outputs": [
    {
     "data": {
      "text/html": [
       "<div>\n",
       "<style scoped>\n",
       "    .dataframe tbody tr th:only-of-type {\n",
       "        vertical-align: middle;\n",
       "    }\n",
       "\n",
       "    .dataframe tbody tr th {\n",
       "        vertical-align: top;\n",
       "    }\n",
       "\n",
       "    .dataframe thead th {\n",
       "        text-align: right;\n",
       "    }\n",
       "</style>\n",
       "<table border=\"1\" class=\"dataframe\">\n",
       "  <thead>\n",
       "    <tr style=\"text-align: right;\">\n",
       "      <th></th>\n",
       "      <th>when</th>\n",
       "      <th>score</th>\n",
       "    </tr>\n",
       "  </thead>\n",
       "  <tbody>\n",
       "    <tr>\n",
       "      <th>0</th>\n",
       "      <td>before</td>\n",
       "      <td>7</td>\n",
       "    </tr>\n",
       "    <tr>\n",
       "      <th>1</th>\n",
       "      <td>before</td>\n",
       "      <td>3</td>\n",
       "    </tr>\n",
       "    <tr>\n",
       "      <th>2</th>\n",
       "      <td>before</td>\n",
       "      <td>4</td>\n",
       "    </tr>\n",
       "    <tr>\n",
       "      <th>3</th>\n",
       "      <td>before</td>\n",
       "      <td>5</td>\n",
       "    </tr>\n",
       "    <tr>\n",
       "      <th>4</th>\n",
       "      <td>before</td>\n",
       "      <td>2</td>\n",
       "    </tr>\n",
       "  </tbody>\n",
       "</table>\n",
       "</div>"
      ],
      "text/plain": [
       "     when  score\n",
       "0  before      7\n",
       "1  before      3\n",
       "2  before      4\n",
       "3  before      5\n",
       "4  before      2"
      ]
     },
     "execution_count": 9,
     "metadata": {},
     "output_type": "execute_result"
    }
   ],
   "source": [
    "data.head()"
   ]
  },
  {
   "cell_type": "code",
   "execution_count": 10,
   "id": "4ccc3626",
   "metadata": {},
   "outputs": [
    {
     "name": "stdout",
     "output_type": "stream",
     "text": [
      "ShapiroResult(statistic=0.9644595384597778, pvalue=0.8352707624435425)\n",
      "ShapiroResult(statistic=0.9456837177276611, pvalue=0.6177994012832642)\n"
     ]
    }
   ],
   "source": [
    "#정규성 검정 : 자료의 모집단 분포는 정규분포를 따름\n",
    "from scipy.stats import shapiro\n",
    "\n",
    "normal_before = shapiro(before_data)\n",
    "normal_after = shapiro(after_data)\n",
    "\n",
    "print(normal_before)\n",
    "print(normal_after)\n",
    "\n",
    "#p-value모두 0.05보다 크기 때문에 정규성 만족 "
   ]
  },
  {
   "cell_type": "code",
   "execution_count": 11,
   "id": "9287c6fc",
   "metadata": {},
   "outputs": [
    {
     "name": "stdout",
     "output_type": "stream",
     "text": [
      "LeveneResult(statistic=0.0, pvalue=1.0)\n",
      "BartlettResult(statistic=0.007785808167159078, pvalue=0.9296881301038368)\n"
     ]
    }
   ],
   "source": [
    "# 등분산성 검정 : 모든 집단의 모분산은 동일함\n",
    "from scipy.stats import levene\n",
    "print(levene(before_data, after_data))\n",
    "\n",
    "from scipy.stats import bartlett\n",
    "print(bartlett(before_data, after_data))\n",
    "\n",
    "#p-value가 0.05보다 커서 등분산성 만족 "
   ]
  },
  {
   "cell_type": "code",
   "execution_count": 12,
   "id": "749e78a2",
   "metadata": {},
   "outputs": [],
   "source": [
    "# 대응표본 t검정 수행\n",
    "paired_result = stats.ttest_rel(before_data, after_data)"
   ]
  },
  {
   "cell_type": "code",
   "execution_count": 13,
   "id": "7048b483",
   "metadata": {},
   "outputs": [
    {
     "name": "stdout",
     "output_type": "stream",
     "text": [
      "t검정 통계량 = -4.743, pvalue = 0.001\n"
     ]
    }
   ],
   "source": [
    "print('t검정 통계량 = %.3f, pvalue = %.3f'%paired_result)  "
   ]
  },
  {
   "cell_type": "markdown",
   "id": "eb036e94",
   "metadata": {},
   "source": [
    "#### 결론 \n",
    "- 대응표본 t검정 수행결과, 검정통계량t값은 -4.7434, 유의확률(P-value)은 0.001 \n",
    "\n",
    "- P-value 검정: 0.05(유의수준) > 0.001(p-value), 귀무가설 기각 \n",
    "- 수면영양제를 복용하기 전과 후의 평균 수면시간 차이는 통계적으로 유의하며, 영양제를 복용한 후 수면시간이 줄었다라는 결론을 내릴 수 있음\n"
   ]
  },
  {
   "cell_type": "markdown",
   "id": "01766923",
   "metadata": {},
   "source": [
    "### 3) 독립표본 t-검정 (Independent Sample t-Test)\n",
    "\n",
    " - 등분산성 만족 : stats.ttest_ind(x,y,  equal_var=True)\n",
    " - 등분산성 불만족 : stats.ttest_ind(x,y,  equal_var=False)"
   ]
  },
  {
   "cell_type": "markdown",
   "id": "2f725e2a",
   "metadata": {},
   "source": [
    "#### 증명하고자 하는 가설 \n",
    "서울과 구미, 두 지역의 겨울 낮 최고기온에 차이가 있는지를 알아보기 위해 12일동안 두 지역의 낮 최고기온을 측정한 데이터로 독립표본 t검정을 수행해보자. (표본이 정규성을 만족한다는 가정,양측검정 수행)\n",
    "- 귀무가설 : a,b 두 지역에 따른 겨울 낮 최고기온은 차이가 없다.\n",
    "- 대립가설 : a,b 두 지역에 따른 겨울 낮 최고기온은 차이가 있다."
   ]
  },
  {
   "cell_type": "code",
   "execution_count": 14,
   "id": "764c438b",
   "metadata": {},
   "outputs": [],
   "source": [
    "# 데이터 프레임 \n",
    "seoul = [-1,0,3,4,1,3,3,1,1,3,2,4]\n",
    "daegu = [6,6,8,8,11,11,10,8,8,9,7,10]\n",
    "region = ['seoul']*12 + ['daegu']*12\n",
    "data = pd.DataFrame({'region':region, 'temp':seoul+daegu})"
   ]
  },
  {
   "cell_type": "code",
   "execution_count": 15,
   "id": "77b3a7c5",
   "metadata": {},
   "outputs": [
    {
     "data": {
      "text/html": [
       "<div>\n",
       "<style scoped>\n",
       "    .dataframe tbody tr th:only-of-type {\n",
       "        vertical-align: middle;\n",
       "    }\n",
       "\n",
       "    .dataframe tbody tr th {\n",
       "        vertical-align: top;\n",
       "    }\n",
       "\n",
       "    .dataframe thead th {\n",
       "        text-align: right;\n",
       "    }\n",
       "</style>\n",
       "<table border=\"1\" class=\"dataframe\">\n",
       "  <thead>\n",
       "    <tr style=\"text-align: right;\">\n",
       "      <th></th>\n",
       "      <th>region</th>\n",
       "      <th>temp</th>\n",
       "    </tr>\n",
       "  </thead>\n",
       "  <tbody>\n",
       "    <tr>\n",
       "      <th>0</th>\n",
       "      <td>seoul</td>\n",
       "      <td>-1</td>\n",
       "    </tr>\n",
       "    <tr>\n",
       "      <th>1</th>\n",
       "      <td>seoul</td>\n",
       "      <td>0</td>\n",
       "    </tr>\n",
       "    <tr>\n",
       "      <th>2</th>\n",
       "      <td>seoul</td>\n",
       "      <td>3</td>\n",
       "    </tr>\n",
       "  </tbody>\n",
       "</table>\n",
       "</div>"
      ],
      "text/plain": [
       "  region  temp\n",
       "0  seoul    -1\n",
       "1  seoul     0\n",
       "2  seoul     3"
      ]
     },
     "execution_count": 15,
     "metadata": {},
     "output_type": "execute_result"
    }
   ],
   "source": [
    "data.head(3)"
   ]
  },
  {
   "cell_type": "code",
   "execution_count": 16,
   "id": "5518abed",
   "metadata": {},
   "outputs": [
    {
     "name": "stdout",
     "output_type": "stream",
     "text": [
      "ShapiroResult(statistic=0.9178414940834045, pvalue=0.2685382068157196)\n",
      "ShapiroResult(statistic=0.9212772846221924, pvalue=0.2966691553592682)\n"
     ]
    }
   ],
   "source": [
    "## 정규성 검정 : 자료의 모집단 분포는 정규분포를 따름\n",
    "\n",
    "normal_seoul = shapiro(seoul)\n",
    "normaldaegu = shapiro(daegu)\n",
    "print(normal_seoul)\n",
    "print(normaldaegu)\n",
    "\n",
    "#결과 : p-value > 0.05, 정규성을 만족"
   ]
  },
  {
   "cell_type": "code",
   "execution_count": 17,
   "id": "64acec55",
   "metadata": {},
   "outputs": [
    {
     "name": "stdout",
     "output_type": "stream",
     "text": [
      "LeveneResult(statistic=0.0, pvalue=1.0)\n",
      "BartlettResult(statistic=0.07093015354702552, pvalue=0.7899872613272646)\n"
     ]
    }
   ],
   "source": [
    "## 등분산성 검정 : 모든 집단의 모분산은 동일함\n",
    "\n",
    "#levene 등분산성 검정\n",
    "print(levene(seoul,daegu))\n",
    "\n",
    "# bartlett 등분산성 검정\n",
    "print(bartlett(seoul,daegu))\n",
    "\n",
    "#결과 : p-value > 0.05, 등분산성 만족"
   ]
  },
  {
   "cell_type": "code",
   "execution_count": 18,
   "id": "71e9c16c",
   "metadata": {},
   "outputs": [
    {
     "name": "stdout",
     "output_type": "stream",
     "text": [
      "t검정 통계량: -9.562, pvalue=0.000000002711180\n"
     ]
    }
   ],
   "source": [
    "# 독립표본 t검정 \n",
    "ttests_result = stats.ttest_ind(seoul,daegu,equal_var= True) # 등분산성 만족\n",
    "# ttest_ind(a,b, equal_var= False) # 등분산성 불만족 \n",
    "\n",
    "print(\"t검정 통계량: %.3f, pvalue=%.15f\"%(ttests_result)) "
   ]
  },
  {
   "cell_type": "markdown",
   "id": "16b6ce36",
   "metadata": {},
   "source": [
    "#### 결론 \n",
    "- 독립표본 t검정 수행결과, 검정통계량t값은 -9.562, 유의확률(P-value)은 0.000000002711180\n",
    "\n",
    "- P-value 검정: 0.05(유의수준) > 0.000000002711180(p-value), 귀무가설 기각 \n",
    "- 서울과 대구, 두 지역의 겨울 낮 최고기온에는 통계적으로 유의한 차이가 존재한다는 결론을 내릴 수 있음"
   ]
  },
  {
   "cell_type": "markdown",
   "id": "91be4bde",
   "metadata": {},
   "source": [
    "## 2. 분산분석(ANOVA)"
   ]
  },
  {
   "cell_type": "markdown",
   "id": "c38c9423",
   "metadata": {},
   "source": [
    "### 1) 일원분산분석(One-way ANOVA)\n",
    "- 3개 이상의 범주를 갖는 하나의 실험 요인(독립변수)에 대한 하나의 종속 변수의 평균 차이를 검정 하는 분석\n",
    "- stats.f_oneway() : scipy f통계량\n",
    "- statsmodels.stats.anova() : stats모델 anova "
   ]
  },
  {
   "cell_type": "markdown",
   "id": "550b62fa",
   "metadata": {},
   "source": [
    "#### 증명하고자 하는 가설\n",
    "\n",
    "4개의 각기 다른 신입사원 교육훈련 기법의 효과성을 평가하고자 한다. 새로 입사한 32명의 신입사원에게 4개의 교육 기관에서 다른 학습 방법을 적용 시켰다. 한 달간의 훈련기간이 끝난 후 시험을 쳤는데 그 점수는 아래와 같다. 4개의 교육훈련 기법간 차이가 있는가? 만약 있다면 어떻게 다른가?\n",
    "\n",
    "-> 4개 이상의 대응표본을 비교해야 하므로 일원배치 분산분석 기법을 사용해야 한다. \n",
    "\n",
    "- 귀무가설 : 4개의 교육훈련 기법간의 차이가 없다.\n",
    "- 대립가설 : 4개의 교육훈련 기법간이 차이가 있다.\n"
   ]
  },
  {
   "cell_type": "code",
   "execution_count": 19,
   "id": "c8e0875e",
   "metadata": {},
   "outputs": [
    {
     "name": "stdout",
     "output_type": "stream",
     "text": [
      "a 평균 :  79.0\n",
      "b 평균 :  65.375\n",
      "c 평균 :  67.125\n",
      "d 평균 :  69.5\n"
     ]
    }
   ],
   "source": [
    "# 데이터 셋 \n",
    "a = [66,74,82,75,73,97,87,78]\n",
    "b = [72,51,59,62,74,64,78,63]\n",
    "c = [61,60,57,60,81,77,70,71]\n",
    "d = [63,61,76,84,58,65,69,80]\n",
    "print(\"a 평균 : \",np.mean(a))\n",
    "print(\"b 평균 : \",np.mean(b))\n",
    "print(\"c 평균 : \",np.mean(c))\n",
    "print(\"d 평균 : \",np.mean(d))"
   ]
  },
  {
   "cell_type": "code",
   "execution_count": 20,
   "id": "60f8c076",
   "metadata": {},
   "outputs": [
    {
     "data": {
      "image/png": "[encoded data removed]",
      "text/plain": [
       "<Figure size 432x288 with 1 Axes>"
      ]
     },
     "metadata": {},
     "output_type": "display_data"
    }
   ],
   "source": [
    "# 이상값 확인 \n",
    "plot_data = [a,b,c,d]\n",
    "plt.boxplot(plot_data)\n",
    "plt.xticks([1,2,3,4],['a','b','c','d'])\n",
    "plt.grid(True)\n",
    "plt.show()"
   ]
  },
  {
   "cell_type": "code",
   "execution_count": 21,
   "id": "05cec1ea",
   "metadata": {},
   "outputs": [
    {
     "data": {
      "text/html": [
       "<div>\n",
       "<style scoped>\n",
       "    .dataframe tbody tr th:only-of-type {\n",
       "        vertical-align: middle;\n",
       "    }\n",
       "\n",
       "    .dataframe tbody tr th {\n",
       "        vertical-align: top;\n",
       "    }\n",
       "\n",
       "    .dataframe thead th {\n",
       "        text-align: right;\n",
       "    }\n",
       "</style>\n",
       "<table border=\"1\" class=\"dataframe\">\n",
       "  <thead>\n",
       "    <tr style=\"text-align: right;\">\n",
       "      <th></th>\n",
       "      <th>점수</th>\n",
       "      <th>교육기관</th>\n",
       "    </tr>\n",
       "  </thead>\n",
       "  <tbody>\n",
       "    <tr>\n",
       "      <th>0</th>\n",
       "      <td>66</td>\n",
       "      <td>a</td>\n",
       "    </tr>\n",
       "    <tr>\n",
       "      <th>1</th>\n",
       "      <td>74</td>\n",
       "      <td>a</td>\n",
       "    </tr>\n",
       "    <tr>\n",
       "      <th>2</th>\n",
       "      <td>82</td>\n",
       "      <td>a</td>\n",
       "    </tr>\n",
       "    <tr>\n",
       "      <th>3</th>\n",
       "      <td>75</td>\n",
       "      <td>a</td>\n",
       "    </tr>\n",
       "  </tbody>\n",
       "</table>\n",
       "</div>"
      ],
      "text/plain": [
       "   점수 교육기관\n",
       "0  66    a\n",
       "1  74    a\n",
       "2  82    a\n",
       "3  75    a"
      ]
     },
     "execution_count": 21,
     "metadata": {},
     "output_type": "execute_result"
    }
   ],
   "source": [
    "# 데이터 프레임 변환 \n",
    "check = ['a', 'b', 'c', 'd']\n",
    "check = [check[j] for j in range(4) for i in range(8)]\n",
    "data = pd.DataFrame({'점수':a+b+c+d, '교육기관':check})\n",
    "data.head(4)"
   ]
  },
  {
   "cell_type": "code",
   "execution_count": 22,
   "id": "b4d2cc4c",
   "metadata": {},
   "outputs": [
    {
     "name": "stdout",
     "output_type": "stream",
     "text": [
      "정규성을 검정\n",
      "ShapiroResult(statistic=0.9516036510467529, pvalue=0.7273865938186646)\n",
      "ShapiroResult(statistic=0.9632648825645447, pvalue=0.8405646681785583)\n",
      "ShapiroResult(statistic=0.8988886475563049, pvalue=0.2823662757873535)\n",
      "ShapiroResult(statistic=0.93294757604599, pvalue=0.5432827472686768)\n",
      "KstestResult(statistic=0.625, pvalue=0.08702408702408701)\n",
      "KstestResult(statistic=0.625, pvalue=0.08702408702408701)\n",
      "KstestResult(statistic=0.5, pvalue=0.2826728826728826)\n",
      "KstestResult(statistic=0.25, pvalue=0.98010878010878)\n",
      "KstestResult(statistic=0.25, pvalue=0.98010878010878)\n",
      "KstestResult(statistic=0.25, pvalue=0.98010878010878)\n",
      "등분산성 검정\n",
      "LeveneResult(statistic=0.07560756075607561, pvalue=0.972627101462453)\n",
      "BartlettResult(statistic=0.07373983712569482, pvalue=0.9947906337756077)\n"
     ]
    }
   ],
   "source": [
    "## 정규성 검정 : 자료의 모집단 분포는 정규분포를 따름\n",
    "\n",
    "# print('정규성을 검정')\n",
    "# normal_a = shapiro(a)\n",
    "# normal_b = shapiro(b)\n",
    "# normal_c = shapiro(c)\n",
    "# normal_d = shapiro(d)\n",
    "\n",
    "# print(normal_a)\n",
    "# print(normal_b)\n",
    "# print(normal_c)\n",
    "# print(normal_d)\n",
    "\n",
    "print(stats.ks_2samp(a, b), stats.ks_2samp(a, c), stats.ks_2samp(a, d), \n",
    "      stats.ks_2samp(b, c), stats.ks_2samp(b, d),\n",
    "      stats.ks_2samp(c, d), sep=\"\\n\")\n",
    "\n",
    "\n",
    "## 등분산성 검정 : 모든 집단의 모분산은 동일함\n",
    "\n",
    "print('등분산성 검정')\n",
    "#levene 등분산성 검정\n",
    "from scipy.stats import levene\n",
    "print(levene(a,b,c,d))\n",
    "\n",
    "# bartlett 등분산성 검정\n",
    "from scipy.stats import bartlett\n",
    "print(bartlett(a,b,c,d))\n",
    "\n",
    "#결과 : p-value > 0.05, 등분산성 만족"
   ]
  },
  {
   "cell_type": "markdown",
   "id": "a88091f8",
   "metadata": {},
   "source": [
    "### 통계량을 이용한 가설 검정 "
   ]
  },
  {
   "cell_type": "code",
   "execution_count": 23,
   "id": "0fce47c5",
   "metadata": {},
   "outputs": [
    {
     "name": "stdout",
     "output_type": "stream",
     "text": [
      "F=3.5,p=0.029\n",
      "귀무가설 기각, 4개의 교육훈련 기법간이 차이가 있다.\n"
     ]
    }
   ],
   "source": [
    "# F통계량을 이용한 가설 검정 \n",
    "f_statistic, pval = stats.f_oneway(a,b,c,d)\n",
    "\n",
    "print('F={0:.1f},p={1:.3f}'.format(f_statistic, pval))\n",
    "\n",
    "if pval <0.05:\n",
    "    print(\"귀무가설 기각, 4개의 교육훈련 기법간이 차이가 있다.\")\n",
    "else:\n",
    "    print(\"귀무가설 기각, 4개의 교육훈련 기법간이 차이가 없다.\")"
   ]
  },
  {
   "cell_type": "markdown",
   "id": "a8a41fc6",
   "metadata": {},
   "source": [
    "### Statsmodel을 이용한 가설 검정 \n",
    "\n",
    "-  model = ols('종속변수 ~ 독립변수', data).fit() : model\n",
    "- sm.stats.anova_lm(model, type=2) : # Type 2 Anova DataFrame"
   ]
  },
  {
   "cell_type": "code",
   "execution_count": 24,
   "id": "dbcdca8a",
   "metadata": {},
   "outputs": [
    {
     "data": {
      "text/html": [
       "<div>\n",
       "<style scoped>\n",
       "    .dataframe tbody tr th:only-of-type {\n",
       "        vertical-align: middle;\n",
       "    }\n",
       "\n",
       "    .dataframe tbody tr th {\n",
       "        vertical-align: top;\n",
       "    }\n",
       "\n",
       "    .dataframe thead th {\n",
       "        text-align: right;\n",
       "    }\n",
       "</style>\n",
       "<table border=\"1\" class=\"dataframe\">\n",
       "  <thead>\n",
       "    <tr style=\"text-align: right;\">\n",
       "      <th></th>\n",
       "      <th>df</th>\n",
       "      <th>sum_sq</th>\n",
       "      <th>mean_sq</th>\n",
       "      <th>F</th>\n",
       "      <th>PR(&gt;F)</th>\n",
       "    </tr>\n",
       "  </thead>\n",
       "  <tbody>\n",
       "    <tr>\n",
       "      <th>C(교육기관)</th>\n",
       "      <td>3.0</td>\n",
       "      <td>885.25</td>\n",
       "      <td>295.083333</td>\n",
       "      <td>3.482176</td>\n",
       "      <td>0.028897</td>\n",
       "    </tr>\n",
       "    <tr>\n",
       "      <th>Residual</th>\n",
       "      <td>28.0</td>\n",
       "      <td>2372.75</td>\n",
       "      <td>84.741071</td>\n",
       "      <td>NaN</td>\n",
       "      <td>NaN</td>\n",
       "    </tr>\n",
       "  </tbody>\n",
       "</table>\n",
       "</div>"
      ],
      "text/plain": [
       "            df   sum_sq     mean_sq         F    PR(>F)\n",
       "C(교육기관)    3.0   885.25  295.083333  3.482176  0.028897\n",
       "Residual  28.0  2372.75   84.741071       NaN       NaN"
      ]
     },
     "execution_count": 24,
     "metadata": {},
     "output_type": "execute_result"
    }
   ],
   "source": [
    "# Statsmodel을 사용한 일원분산분석¶\n",
    "\n",
    "from statsmodels.formula.api import ols\n",
    "from statsmodels.stats.anova import anova_lm\n",
    "\n",
    "model_1A = ols('점수 ~ C(교육기관)', data).fit()\n",
    "anova_lm_result = anova_lm(model_1A)\n",
    "anova_lm_result\n",
    "\n",
    "# data.shape (32,2)\n",
    "# SSA k-1 = 4-1 =4 \n",
    "# SSE N-k = 32-4 = 28 \n",
    "# SST N-1 = 32-1 =31 \n",
    "# MSA / MSW = 295.083333 / 84.741071 = 3.482176"
   ]
  },
  {
   "cell_type": "code",
   "execution_count": 25,
   "id": "7c2d34a0",
   "metadata": {},
   "outputs": [
    {
     "name": "stdout",
     "output_type": "stream",
     "text": [
      "귀무가설 기각, 4개의 교육훈련 기법간이 차이가 있다.\n"
     ]
    }
   ],
   "source": [
    "pval = anova_lm_result['PR(>F)'][0]\n",
    "\n",
    "if pval < 0.05:\n",
    "    print(\"귀무가설 기각, 4개의 교육훈련 기법간이 차이가 있다.\")\n",
    "else:\n",
    "    print(\"귀무가설 채택, 4개의 교육훈련 기법간이 차이가 없다.\")"
   ]
  },
  {
   "cell_type": "code",
   "execution_count": 26,
   "id": "6c4fbeb0",
   "metadata": {},
   "outputs": [
    {
     "data": {
      "text/html": [
       "<table class=\"simpletable\">\n",
       "<caption>Multiple Comparison of Means - Tukey HSD, FWER=0.05</caption>\n",
       "<tr>\n",
       "  <th>group1</th> <th>group2</th> <th>meandiff</th>  <th>p-adj</th>   <th>lower</th>   <th>upper</th>  <th>reject</th>\n",
       "</tr>\n",
       "<tr>\n",
       "     <td>a</td>      <td>b</td>    <td>-13.625</td> <td>0.0298</td> <td>-26.1919</td> <td>-1.0581</td>  <td>True</td> \n",
       "</tr>\n",
       "<tr>\n",
       "     <td>a</td>      <td>c</td>    <td>-11.875</td> <td>0.0693</td> <td>-24.4419</td> <td>0.6919</td>   <td>False</td>\n",
       "</tr>\n",
       "<tr>\n",
       "     <td>a</td>      <td>d</td>     <td>-9.5</td>   <td>0.1896</td> <td>-22.0669</td> <td>3.0669</td>   <td>False</td>\n",
       "</tr>\n",
       "<tr>\n",
       "     <td>b</td>      <td>c</td>     <td>1.75</td>     <td>0.9</td>  <td>-10.8169</td> <td>14.3169</td>  <td>False</td>\n",
       "</tr>\n",
       "<tr>\n",
       "     <td>b</td>      <td>d</td>     <td>4.125</td>  <td>0.7861</td>  <td>-8.4419</td> <td>16.6919</td>  <td>False</td>\n",
       "</tr>\n",
       "<tr>\n",
       "     <td>c</td>      <td>d</td>     <td>2.375</td>    <td>0.9</td>  <td>-10.1919</td> <td>14.9419</td>  <td>False</td>\n",
       "</tr>\n",
       "</table>"
      ],
      "text/plain": [
       "<class 'statsmodels.iolib.table.SimpleTable'>"
      ]
     },
     "execution_count": 26,
     "metadata": {},
     "output_type": "execute_result"
    }
   ],
   "source": [
    "## 사후분석 : ANOVA 검증 결과 유의미하다는 결론을 얻었을 때, \n",
    "##            구체적으로 어떤 수준(들)에서 평균 차이가 나는지를 검증\n",
    "from statsmodels.stats.multicomp import pairwise_tukeyhsd\n",
    "\n",
    "HSD = pairwise_tukeyhsd(data['점수'], data['교육기관'], alpha=0.05)\n",
    "HSD.summary()\n",
    "\n",
    "# a, b 차이, a,c 차이만 유의함 "
   ]
  },
  {
   "cell_type": "markdown",
   "id": "7fc970ff",
   "metadata": {},
   "source": [
    "#### 결론 \n",
    "#### 교육기관에 따른 weight의 평균 차이는 유의미하였다(F(3, 28) = 4.221093, p < 0.05). \n",
    "#### Tukey의 HSD를 이용하여 사후분석을 실시한 결과, a 조건과 b 조건 에서 유의미한 평균 차이가 있었다(p < 0.05)."
   ]
  },
  {
   "cell_type": "markdown",
   "id": "eeb71558",
   "metadata": {},
   "source": [
    "### 2) 이원분산분석(Two-way ANOVA)\n",
    "#### 종속변수가 1개, 독립변수가 2개이면서 독립변수 각각이 factor(요인)로서 factor내에 level(수준)을 가지고 있을 때,각 집단의 평균의 유의미한 차이가 있는지 유무를 확인\n",
    "\n",
    "#### 증명하고자 하는 가설\n",
    "- 귀무가설 : 강도에 대한 각 판유리와 온도간에는 상호작용효과가 없다 \n",
    "- 대립가설 : 강도에 대한 각 판유리와 온도간에는 상호작용효과가 없다 "
   ]
  },
  {
   "cell_type": "code",
   "execution_count": 27,
   "id": "6312f130",
   "metadata": {},
   "outputs": [],
   "source": [
    "# 종속변수: 강도, 독립변수: 판유리/온도\n",
    "\n",
    "dat=pd.DataFrame({'판유리':['유리1', '유리1', '유리1', '유리2', '유리2', '유리2', '유리3', '유리3',\n",
    "                            '유리3', '유리1', '유리1', '유리1', '유리2', '유리2', '유리2', '유리3', \n",
    "                            '유리3', '유리3', '유리1', '유리1', '유리1', '유리2', '유리2', '유리2', \n",
    "                            '유리3', '유리3', '유리3'], \n",
    "                  '온도':[100, 100, 100, 100, 100, 100, 100, 100, 100, 125, 125, 125, 125, 125,\n",
    "                          125, 125, 125, 125, 150, 150, 150, 150, 150, 150, 150, 150, 150], \n",
    "                  '강도':[580, 568, 570, 550, 530, 579, 546, 575, 599, 1090, 1087, 1085, 1070,\n",
    "                          1035, 1000, 1045, 1053, 1066, 1392, 1380, 1386, 1328, 1312, 1299, 867, \n",
    "                          904, 889]\n",
    "                 })"
   ]
  },
  {
   "cell_type": "code",
   "execution_count": 28,
   "id": "e0017fc6",
   "metadata": {},
   "outputs": [
    {
     "data": {
      "text/html": [
       "<div>\n",
       "<style scoped>\n",
       "    .dataframe tbody tr th:only-of-type {\n",
       "        vertical-align: middle;\n",
       "    }\n",
       "\n",
       "    .dataframe tbody tr th {\n",
       "        vertical-align: top;\n",
       "    }\n",
       "\n",
       "    .dataframe thead th {\n",
       "        text-align: right;\n",
       "    }\n",
       "</style>\n",
       "<table border=\"1\" class=\"dataframe\">\n",
       "  <thead>\n",
       "    <tr style=\"text-align: right;\">\n",
       "      <th></th>\n",
       "      <th>판유리</th>\n",
       "      <th>온도</th>\n",
       "      <th>강도</th>\n",
       "    </tr>\n",
       "  </thead>\n",
       "  <tbody>\n",
       "    <tr>\n",
       "      <th>0</th>\n",
       "      <td>유리1</td>\n",
       "      <td>100</td>\n",
       "      <td>580</td>\n",
       "    </tr>\n",
       "    <tr>\n",
       "      <th>1</th>\n",
       "      <td>유리1</td>\n",
       "      <td>100</td>\n",
       "      <td>568</td>\n",
       "    </tr>\n",
       "    <tr>\n",
       "      <th>2</th>\n",
       "      <td>유리1</td>\n",
       "      <td>100</td>\n",
       "      <td>570</td>\n",
       "    </tr>\n",
       "    <tr>\n",
       "      <th>3</th>\n",
       "      <td>유리2</td>\n",
       "      <td>100</td>\n",
       "      <td>550</td>\n",
       "    </tr>\n",
       "    <tr>\n",
       "      <th>4</th>\n",
       "      <td>유리2</td>\n",
       "      <td>100</td>\n",
       "      <td>530</td>\n",
       "    </tr>\n",
       "  </tbody>\n",
       "</table>\n",
       "</div>"
      ],
      "text/plain": [
       "   판유리   온도   강도\n",
       "0  유리1  100  580\n",
       "1  유리1  100  568\n",
       "2  유리1  100  570\n",
       "3  유리2  100  550\n",
       "4  유리2  100  530"
      ]
     },
     "execution_count": 28,
     "metadata": {},
     "output_type": "execute_result"
    }
   ],
   "source": [
    "dat.head()"
   ]
  },
  {
   "cell_type": "code",
   "execution_count": 29,
   "id": "8d2a8233",
   "metadata": {},
   "outputs": [
    {
     "data": {
      "text/html": [
       "<div>\n",
       "<style scoped>\n",
       "    .dataframe tbody tr th:only-of-type {\n",
       "        vertical-align: middle;\n",
       "    }\n",
       "\n",
       "    .dataframe tbody tr th {\n",
       "        vertical-align: top;\n",
       "    }\n",
       "\n",
       "    .dataframe thead th {\n",
       "        text-align: right;\n",
       "    }\n",
       "</style>\n",
       "<table border=\"1\" class=\"dataframe\">\n",
       "  <thead>\n",
       "    <tr style=\"text-align: right;\">\n",
       "      <th></th>\n",
       "      <th>온도</th>\n",
       "      <th>강도</th>\n",
       "    </tr>\n",
       "    <tr>\n",
       "      <th>판유리</th>\n",
       "      <th></th>\n",
       "      <th></th>\n",
       "    </tr>\n",
       "  </thead>\n",
       "  <tbody>\n",
       "    <tr>\n",
       "      <th>유리1</th>\n",
       "      <td>9</td>\n",
       "      <td>9</td>\n",
       "    </tr>\n",
       "    <tr>\n",
       "      <th>유리2</th>\n",
       "      <td>9</td>\n",
       "      <td>9</td>\n",
       "    </tr>\n",
       "    <tr>\n",
       "      <th>유리3</th>\n",
       "      <td>9</td>\n",
       "      <td>9</td>\n",
       "    </tr>\n",
       "  </tbody>\n",
       "</table>\n",
       "</div>"
      ],
      "text/plain": [
       "     온도  강도\n",
       "판유리        \n",
       "유리1   9   9\n",
       "유리2   9   9\n",
       "유리3   9   9"
      ]
     },
     "execution_count": 29,
     "metadata": {},
     "output_type": "execute_result"
    }
   ],
   "source": [
    "dat.groupby('판유리').agg(len)"
   ]
  },
  {
   "cell_type": "code",
   "execution_count": 30,
   "id": "b58a3681",
   "metadata": {},
   "outputs": [
    {
     "data": {
      "text/html": [
       "<div>\n",
       "<style scoped>\n",
       "    .dataframe tbody tr th:only-of-type {\n",
       "        vertical-align: middle;\n",
       "    }\n",
       "\n",
       "    .dataframe tbody tr th {\n",
       "        vertical-align: top;\n",
       "    }\n",
       "\n",
       "    .dataframe thead th {\n",
       "        text-align: right;\n",
       "    }\n",
       "</style>\n",
       "<table border=\"1\" class=\"dataframe\">\n",
       "  <thead>\n",
       "    <tr style=\"text-align: right;\">\n",
       "      <th></th>\n",
       "      <th>판유리</th>\n",
       "      <th>강도</th>\n",
       "    </tr>\n",
       "    <tr>\n",
       "      <th>온도</th>\n",
       "      <th></th>\n",
       "      <th></th>\n",
       "    </tr>\n",
       "  </thead>\n",
       "  <tbody>\n",
       "    <tr>\n",
       "      <th>100</th>\n",
       "      <td>9</td>\n",
       "      <td>9</td>\n",
       "    </tr>\n",
       "    <tr>\n",
       "      <th>125</th>\n",
       "      <td>9</td>\n",
       "      <td>9</td>\n",
       "    </tr>\n",
       "    <tr>\n",
       "      <th>150</th>\n",
       "      <td>9</td>\n",
       "      <td>9</td>\n",
       "    </tr>\n",
       "  </tbody>\n",
       "</table>\n",
       "</div>"
      ],
      "text/plain": [
       "     판유리  강도\n",
       "온도          \n",
       "100    9   9\n",
       "125    9   9\n",
       "150    9   9"
      ]
     },
     "execution_count": 30,
     "metadata": {},
     "output_type": "execute_result"
    }
   ],
   "source": [
    "dat.groupby('온도').agg(len)"
   ]
  },
  {
   "cell_type": "code",
   "execution_count": 31,
   "id": "ace7e1f7",
   "metadata": {},
   "outputs": [
    {
     "data": {
      "text/html": [
       "<div>\n",
       "<style scoped>\n",
       "    .dataframe tbody tr th:only-of-type {\n",
       "        vertical-align: middle;\n",
       "    }\n",
       "\n",
       "    .dataframe tbody tr th {\n",
       "        vertical-align: top;\n",
       "    }\n",
       "\n",
       "    .dataframe thead th {\n",
       "        text-align: right;\n",
       "    }\n",
       "</style>\n",
       "<table border=\"1\" class=\"dataframe\">\n",
       "  <thead>\n",
       "    <tr style=\"text-align: right;\">\n",
       "      <th></th>\n",
       "      <th></th>\n",
       "      <th>강도</th>\n",
       "    </tr>\n",
       "    <tr>\n",
       "      <th>판유리</th>\n",
       "      <th>온도</th>\n",
       "      <th></th>\n",
       "    </tr>\n",
       "  </thead>\n",
       "  <tbody>\n",
       "    <tr>\n",
       "      <th rowspan=\"3\" valign=\"top\">유리1</th>\n",
       "      <th>100</th>\n",
       "      <td>3</td>\n",
       "    </tr>\n",
       "    <tr>\n",
       "      <th>125</th>\n",
       "      <td>3</td>\n",
       "    </tr>\n",
       "    <tr>\n",
       "      <th>150</th>\n",
       "      <td>3</td>\n",
       "    </tr>\n",
       "    <tr>\n",
       "      <th rowspan=\"3\" valign=\"top\">유리2</th>\n",
       "      <th>100</th>\n",
       "      <td>3</td>\n",
       "    </tr>\n",
       "    <tr>\n",
       "      <th>125</th>\n",
       "      <td>3</td>\n",
       "    </tr>\n",
       "    <tr>\n",
       "      <th>150</th>\n",
       "      <td>3</td>\n",
       "    </tr>\n",
       "    <tr>\n",
       "      <th rowspan=\"3\" valign=\"top\">유리3</th>\n",
       "      <th>100</th>\n",
       "      <td>3</td>\n",
       "    </tr>\n",
       "    <tr>\n",
       "      <th>125</th>\n",
       "      <td>3</td>\n",
       "    </tr>\n",
       "    <tr>\n",
       "      <th>150</th>\n",
       "      <td>3</td>\n",
       "    </tr>\n",
       "  </tbody>\n",
       "</table>\n",
       "</div>"
      ],
      "text/plain": [
       "         강도\n",
       "판유리 온도     \n",
       "유리1 100   3\n",
       "    125   3\n",
       "    150   3\n",
       "유리2 100   3\n",
       "    125   3\n",
       "    150   3\n",
       "유리3 100   3\n",
       "    125   3\n",
       "    150   3"
      ]
     },
     "execution_count": 31,
     "metadata": {},
     "output_type": "execute_result"
    }
   ],
   "source": [
    "dat.groupby(['판유리', '온도']).agg(len)\n",
    "\n",
    "# 판유리 온도 요인으로 구분한 각 집단별 표본수는 모두 3로 동일"
   ]
  },
  {
   "cell_type": "code",
   "execution_count": 32,
   "id": "f22862b2",
   "metadata": {
    "scrolled": true
   },
   "outputs": [],
   "source": [
    "# 이원 분산 분석 \n",
    "\n",
    "from statsmodels.formula.api import ols\n",
    "from statsmodels.stats.anova import anova_lm\n",
    "\n",
    "model = ols('강도 ~ C(판유리) * C(온도)', dat).fit()\n",
    "anova_result = pd.DataFrame(anova_lm(model))"
   ]
  },
  {
   "cell_type": "code",
   "execution_count": 33,
   "id": "2a23b253",
   "metadata": {},
   "outputs": [
    {
     "data": {
      "text/html": [
       "<div>\n",
       "<style scoped>\n",
       "    .dataframe tbody tr th:only-of-type {\n",
       "        vertical-align: middle;\n",
       "    }\n",
       "\n",
       "    .dataframe tbody tr th {\n",
       "        vertical-align: top;\n",
       "    }\n",
       "\n",
       "    .dataframe thead th {\n",
       "        text-align: right;\n",
       "    }\n",
       "</style>\n",
       "<table border=\"1\" class=\"dataframe\">\n",
       "  <thead>\n",
       "    <tr style=\"text-align: right;\">\n",
       "      <th></th>\n",
       "      <th>df</th>\n",
       "      <th>sum_sq</th>\n",
       "      <th>mean_sq</th>\n",
       "      <th>F</th>\n",
       "      <th>PR(&gt;F)</th>\n",
       "    </tr>\n",
       "  </thead>\n",
       "  <tbody>\n",
       "    <tr>\n",
       "      <th>C(판유리)</th>\n",
       "      <td>2.0</td>\n",
       "      <td>1.508645e+05</td>\n",
       "      <td>75432.259259</td>\n",
       "      <td>206.370554</td>\n",
       "      <td>3.886026e-13</td>\n",
       "    </tr>\n",
       "    <tr>\n",
       "      <th>C(온도)</th>\n",
       "      <td>2.0</td>\n",
       "      <td>1.970335e+06</td>\n",
       "      <td>985167.259259</td>\n",
       "      <td>2695.259499</td>\n",
       "      <td>5.008957e-23</td>\n",
       "    </tr>\n",
       "    <tr>\n",
       "      <th>C(판유리):C(온도)</th>\n",
       "      <td>4.0</td>\n",
       "      <td>2.905517e+05</td>\n",
       "      <td>72637.925926</td>\n",
       "      <td>198.725707</td>\n",
       "      <td>1.254188e-14</td>\n",
       "    </tr>\n",
       "    <tr>\n",
       "      <th>Residual</th>\n",
       "      <td>18.0</td>\n",
       "      <td>6.579333e+03</td>\n",
       "      <td>365.518519</td>\n",
       "      <td>NaN</td>\n",
       "      <td>NaN</td>\n",
       "    </tr>\n",
       "  </tbody>\n",
       "</table>\n",
       "</div>"
      ],
      "text/plain": [
       "                df        sum_sq        mean_sq            F        PR(>F)\n",
       "C(판유리)         2.0  1.508645e+05   75432.259259   206.370554  3.886026e-13\n",
       "C(온도)          2.0  1.970335e+06  985167.259259  2695.259499  5.008957e-23\n",
       "C(판유리):C(온도)   4.0  2.905517e+05   72637.925926   198.725707  1.254188e-14\n",
       "Residual      18.0  6.579333e+03     365.518519          NaN           NaN"
      ]
     },
     "execution_count": 33,
     "metadata": {},
     "output_type": "execute_result"
    }
   ],
   "source": [
    "anova_result"
   ]
  },
  {
   "cell_type": "markdown",
   "id": "03fa5b82",
   "metadata": {},
   "source": [
    "#### 결과해석 \n",
    "- 판유리: F(2, 18) = 206.370554, p < 0.05로 유의미. 즉 판유리의 수준에 따라 평균에 차이가 난다고 볼 수 있음\n",
    "- 온도: F(2, 18) = 2695.259499, p < 0.05로 유의미. 즉 온도의 수준에 따라 평균에 차이가 난다고 볼 수 있음\n",
    "\n",
    "- 판유리:온도: F(4, 18) = 198.725707, p < 0.05로 유의미. 상호작용 효과는 발견"
   ]
  },
  {
   "cell_type": "code",
   "execution_count": 34,
   "id": "1cbb3701",
   "metadata": {},
   "outputs": [
    {
     "name": "stdout",
     "output_type": "stream",
     "text": [
      "      Multiple Comparison of Means - Tukey HSD, FWER=0.05      \n",
      "===============================================================\n",
      "  group1    group2   meandiff p-adj    lower     upper   reject\n",
      "---------------------------------------------------------------\n",
      "유리1 / 100 유리1 / 125  514.6667  0.001  459.9711  569.3623   True\n",
      "유리1 / 100 유리1 / 150  813.3333  0.001  758.6377  868.0289   True\n",
      "유리1 / 100 유리2 / 100  -19.6667    0.9  -74.3623   35.0289  False\n",
      "유리1 / 100 유리2 / 125  462.3333  0.001  407.6377  517.0289   True\n",
      "유리1 / 100 유리2 / 150  740.3333  0.001  685.6377  795.0289   True\n",
      "유리1 / 100 유리3 / 100    0.6667    0.9  -54.0289   55.3623  False\n",
      "유리1 / 100 유리3 / 125     482.0  0.001  427.3044  536.6956   True\n",
      "유리1 / 100 유리3 / 150     314.0  0.001  259.3044  368.6956   True\n",
      "유리1 / 125 유리1 / 150  298.6667  0.001  243.9711  353.3623   True\n",
      "유리1 / 125 유리2 / 100 -534.3333  0.001 -589.0289 -479.6377   True\n",
      "유리1 / 125 유리2 / 125  -52.3333 0.0671 -107.0289    2.3623  False\n",
      "유리1 / 125 유리2 / 150  225.6667  0.001  170.9711  280.3623   True\n",
      "유리1 / 125 유리3 / 100    -514.0  0.001 -568.6956 -459.3044   True\n",
      "유리1 / 125 유리3 / 125  -32.6667 0.5058  -87.3623   22.0289  False\n",
      "유리1 / 125 유리3 / 150 -200.6667  0.001 -255.3623 -145.9711   True\n",
      "유리1 / 150 유리2 / 100    -833.0  0.001 -887.6956 -778.3044   True\n",
      "유리1 / 150 유리2 / 125    -351.0  0.001 -405.6956 -296.3044   True\n",
      "유리1 / 150 유리2 / 150     -73.0 0.0046 -127.6956  -18.3044   True\n",
      "유리1 / 150 유리3 / 100 -812.6667  0.001 -867.3623 -757.9711   True\n",
      "유리1 / 150 유리3 / 125 -331.3333  0.001 -386.0289 -276.6377   True\n",
      "유리1 / 150 유리3 / 150 -499.3333  0.001 -554.0289 -444.6377   True\n",
      "유리2 / 100 유리2 / 125     482.0  0.001  427.3044  536.6956   True\n",
      "유리2 / 100 유리2 / 150     760.0  0.001  705.3044  814.6956   True\n",
      "유리2 / 100 유리3 / 100   20.3333    0.9  -34.3623   75.0289  False\n",
      "유리2 / 100 유리3 / 125  501.6667  0.001  446.9711  556.3623   True\n",
      "유리2 / 100 유리3 / 150  333.6667  0.001  278.9711  388.3623   True\n",
      "유리2 / 125 유리2 / 150     278.0  0.001  223.3044  332.6956   True\n",
      "유리2 / 125 유리3 / 100 -461.6667  0.001 -516.3623 -406.9711   True\n",
      "유리2 / 125 유리3 / 125   19.6667    0.9  -35.0289   74.3623  False\n",
      "유리2 / 125 유리3 / 150 -148.3333  0.001 -203.0289  -93.6377   True\n",
      "유리2 / 150 유리3 / 100 -739.6667  0.001 -794.3623 -684.9711   True\n",
      "유리2 / 150 유리3 / 125 -258.3333  0.001 -313.0289 -203.6377   True\n",
      "유리2 / 150 유리3 / 150 -426.3333  0.001 -481.0289 -371.6377   True\n",
      "유리3 / 100 유리3 / 125  481.3333  0.001  426.6377  536.0289   True\n",
      "유리3 / 100 유리3 / 150  313.3333  0.001  258.6377  368.0289   True\n",
      "유리3 / 125 유리3 / 150    -168.0  0.001 -222.6956 -113.3044   True\n",
      "---------------------------------------------------------------\n"
     ]
    }
   ],
   "source": [
    "## 사후 분석 \n",
    "dat['온도']=dat['온도'].astype('str')\n",
    "dat['combi']=dat.판유리 + \" / \" + dat.온도\n",
    "print(pairwise_tukeyhsd(dat['강도'], dat['combi']))"
   ]
  },
  {
   "cell_type": "code",
   "execution_count": null,
   "id": "7a9dc7f2",
   "metadata": {},
   "outputs": [],
   "source": []
  },
  {
   "cell_type": "markdown",
   "id": "14c9ed82",
   "metadata": {},
   "source": [
    "## 2. 카이제곱 검정 "
   ]
  },
  {
   "cell_type": "markdown",
   "id": "bd421e8f",
   "metadata": {},
   "source": [
    "### 1)적합도 검정(Goodness of Fit)\n",
    "- k개의 범주 (혹은 계급)을 가지는 한 개의 요인(factor)에 대해서 어떤 이론적 분포를 따르고 있는지를 검정하는 방법\n",
    "#### stats.chisquare()\n",
    "- 귀무가설 : 실제분포와 이론적 분포 간에는 차이가 없다. (두 분포가 일치한다.)\n",
    "- 대립가설 : 실제분포와 이론적 분포 간에는 차이가 있다. (두 분포가 일치하지 않는다.)"
   ]
  },
  {
   "cell_type": "code",
   "execution_count": 35,
   "id": "4c0b5862",
   "metadata": {},
   "outputs": [
    {
     "name": "stdout",
     "output_type": "stream",
     "text": [
      "카이제곱 통계량 8.2\n",
      "기각역: 7.814727903251179\n",
      "귀무가설 기각, 4개조의 불량수는 차이가 있다.\n",
      "p-value: 0.0420541828949661\n",
      "귀무가설 기각, 4개조의 불량수는 차이가 있다.\n"
     ]
    },
    {
     "data": {
      "text/plain": [
       "Power_divergenceResult(statistic=8.2, pvalue=0.04205418289496614)"
      ]
     },
     "execution_count": 35,
     "metadata": {},
     "output_type": "execute_result"
    }
   ],
   "source": [
    "#### 적합도 검정 ####\n",
    "## 데이터 생성\n",
    "# 4교대 근무, 1일 불량 수 조사, 각조의 불량 수 차이 여부 검정 \n",
    "observed_, expected_ = [15,35,24,27], [25,25,25,25]\n",
    "ct_1 = pd.DataFrame([observed_, expected_], columns=[\"A조\",\"B조\",\"C조\",\"D조\",],\n",
    "                    index=['관측빈도', '기대빈도'])\n",
    "ct_1\n",
    "\n",
    "## 카이제곱검정 통계량 계산\n",
    "observed = ct_1.loc[\"관측빈도\"]\n",
    "expected = ct_1.loc[\"기대빈도\"]\n",
    "\n",
    "chi_squared_test = (observed-expected).pow(2)/expected\n",
    "\n",
    "chi_squared_statistic = chi_squared_test.sum()\n",
    "print('카이제곱 통계량',chi_squared_statistic) \n",
    "\n",
    "## 카이제곱검정 수행(적합도 검정)\n",
    "dof = (4-1)*(2-1)\n",
    "chi_ = stats.chi2(dof)\n",
    "chi_05 = chi_.ppf(0.95)\n",
    "print('기각역:', chi_05) \n",
    "\n",
    "# 카이제곱통계량 기반 검정 \n",
    "if chi_05 >=  chi_squared_statistic :\n",
    "    print(\"귀무가설 채택, 4개조의 불량수는 차이가 없다.\")\n",
    "else :\n",
    "    print(\"귀무가설 기각, 4개조의 불량수는 차이가 있다.\")\n",
    "\n",
    "p_val=1-chi_.cdf(chi_squared_statistic)\n",
    "\n",
    "print('p-value:', p_val) \n",
    "\n",
    "# 유의수준 기반 검정 \n",
    "if p_val >= 0.05:\n",
    "    print(\"귀무가설 채택, 4개조의 불량수는 차이가 없다.\")\n",
    "else :\n",
    "    print(\"귀무가설 기각, 4개조의 불량수는 차이가 있다.\")\n",
    "\n",
    "\n",
    "## chisquare: 모집단의 분포를 알고 있고, 이에 대해 검증할 때, 활용 package\n",
    "stats.chisquare(ct_1.loc[\"관측빈도\"].values,f_exp = ct_1.loc[\"기대빈도\"].values)\n"
   ]
  },
  {
   "cell_type": "markdown",
   "id": "a7207dab",
   "metadata": {},
   "source": [
    "### 2)독립성검정(Test of Independence) \n",
    "\n",
    "- 모집단을 범주화하는 기준이 되는 두 변수 A,B가 서로 독립적으로 관측값에 영향을 미치는지의 여부를 검정하는 것\n",
    "\n",
    "#### crosstab() : 교차표 생성 함수 \n",
    "#### scipy 모듈의 chi2_contingency() : 2개의 범주형 변수에 대한 카이제곱 통계량 계산 \n",
    "\n",
    "- 귀무가설 : 두 변수 사이에는 연관이 없다. (독립이다.)\n",
    "- 대립가설 : 두 변수 사이에는 연관이 있다. (종속이다.)"
   ]
  },
  {
   "cell_type": "code",
   "execution_count": 36,
   "id": "8ec1a591",
   "metadata": {},
   "outputs": [
    {
     "data": {
      "text/html": [
       "<div>\n",
       "<style scoped>\n",
       "    .dataframe tbody tr th:only-of-type {\n",
       "        vertical-align: middle;\n",
       "    }\n",
       "\n",
       "    .dataframe tbody tr th {\n",
       "        vertical-align: top;\n",
       "    }\n",
       "\n",
       "    .dataframe thead th {\n",
       "        text-align: right;\n",
       "    }\n",
       "</style>\n",
       "<table border=\"1\" class=\"dataframe\">\n",
       "  <thead>\n",
       "    <tr style=\"text-align: right;\">\n",
       "      <th></th>\n",
       "      <th>영양제</th>\n",
       "      <th>감기여부</th>\n",
       "    </tr>\n",
       "  </thead>\n",
       "  <tbody>\n",
       "    <tr>\n",
       "      <th>0</th>\n",
       "      <td>복용</td>\n",
       "      <td>유</td>\n",
       "    </tr>\n",
       "    <tr>\n",
       "      <th>1</th>\n",
       "      <td>복용</td>\n",
       "      <td>유</td>\n",
       "    </tr>\n",
       "    <tr>\n",
       "      <th>2</th>\n",
       "      <td>복용</td>\n",
       "      <td>유</td>\n",
       "    </tr>\n",
       "    <tr>\n",
       "      <th>3</th>\n",
       "      <td>복용</td>\n",
       "      <td>유</td>\n",
       "    </tr>\n",
       "    <tr>\n",
       "      <th>4</th>\n",
       "      <td>복용</td>\n",
       "      <td>유</td>\n",
       "    </tr>\n",
       "  </tbody>\n",
       "</table>\n",
       "</div>"
      ],
      "text/plain": [
       "  영양제 감기여부\n",
       "0  복용    유\n",
       "1  복용    유\n",
       "2  복용    유\n",
       "3  복용    유\n",
       "4  복용    유"
      ]
     },
     "execution_count": 36,
     "metadata": {},
     "output_type": "execute_result"
    }
   ],
   "source": [
    "#교차분석 하기 위한 범주형 데이터 정의\n",
    "cross_data = pd.DataFrame(\n",
    "                {\"영양제\":['복용','복용','복용','복용','복용','복용','복용','복용',\n",
    "                         '복용','복용','복용','복용','복용','복용','복용','복용',\n",
    "                         '복용','복용','복용','복용',\n",
    "                         '미복용','미복용','미복용','미복용','미복용','미복용','미복용','미복용',\n",
    "                         '미복용','미복용','미복용','미복용','미복용','미복용','미복용','미복용',\n",
    "                         '미복용','미복용','미복용','미복용'], \n",
    "                 \n",
    "                 \"감기여부\":['유','유','유','유','유','무','무','무','무','무',\n",
    "                             '무','무','무','무','무','무','무','무','무','무',\n",
    "                             '유','유','유','유','유','유','유','유','유','유',\n",
    "                             '유','유','무','무','무','무','무','무','무','무']\n",
    "                }\n",
    ")\n",
    "\n",
    "cross_data.head(5)"
   ]
  },
  {
   "cell_type": "code",
   "execution_count": 37,
   "id": "4714b688",
   "metadata": {},
   "outputs": [
    {
     "name": "stdout",
     "output_type": "stream",
     "text": [
      "감기여부   무   유  All\n",
      "영양제              \n",
      "미복용    8  12   20\n",
      "복용    15   5   20\n",
      "All   23  17   40\n"
     ]
    }
   ],
   "source": [
    "# 교차분석표 생성 \n",
    "## summary 행렬 포함한 교차표 \n",
    "print(pd.crosstab(cross_data['영양제'], cross_data['감기여부'], margins=True))\n",
    "\n",
    "## 계산하기 위한 교차표\n",
    "data_crosstab = pd.crosstab(cross_data['영양제'], cross_data['감기여부'], margins=False)"
   ]
  },
  {
   "cell_type": "code",
   "execution_count": 38,
   "id": "e032924e",
   "metadata": {},
   "outputs": [
    {
     "data": {
      "text/html": [
       "<div>\n",
       "<style scoped>\n",
       "    .dataframe tbody tr th:only-of-type {\n",
       "        vertical-align: middle;\n",
       "    }\n",
       "\n",
       "    .dataframe tbody tr th {\n",
       "        vertical-align: top;\n",
       "    }\n",
       "\n",
       "    .dataframe thead th {\n",
       "        text-align: right;\n",
       "    }\n",
       "</style>\n",
       "<table border=\"1\" class=\"dataframe\">\n",
       "  <thead>\n",
       "    <tr style=\"text-align: right;\">\n",
       "      <th>감기여부</th>\n",
       "      <th>무</th>\n",
       "      <th>유</th>\n",
       "    </tr>\n",
       "    <tr>\n",
       "      <th>영양제</th>\n",
       "      <th></th>\n",
       "      <th></th>\n",
       "    </tr>\n",
       "  </thead>\n",
       "  <tbody>\n",
       "    <tr>\n",
       "      <th>미복용</th>\n",
       "      <td>8</td>\n",
       "      <td>12</td>\n",
       "    </tr>\n",
       "    <tr>\n",
       "      <th>복용</th>\n",
       "      <td>15</td>\n",
       "      <td>5</td>\n",
       "    </tr>\n",
       "  </tbody>\n",
       "</table>\n",
       "</div>"
      ],
      "text/plain": [
       "감기여부   무   유\n",
       "영양제         \n",
       "미복용    8  12\n",
       "복용    15   5"
      ]
     },
     "execution_count": 38,
     "metadata": {},
     "output_type": "execute_result"
    }
   ],
   "source": [
    "data_crosstab"
   ]
  },
  {
   "cell_type": "code",
   "execution_count": 39,
   "id": "3d1db3a9",
   "metadata": {},
   "outputs": [
    {
     "name": "stdout",
     "output_type": "stream",
     "text": [
      "1. 카이제곱 통계량: 5.012787723785166\n",
      "2. p-value: 0.025160759200408785\n",
      "3. df: 1\n",
      "4. 기대값 행렬:\n",
      "귀무가설 기각, 감기약 복용과 감기 유무는 차이가 있다.\n"
     ]
    }
   ],
   "source": [
    "#교차표분석 : 카이제곱통계량 산출 \n",
    "from scipy.stats import chi2_contingency\n",
    "\n",
    "#correction=True를 적용하면 Yates' correction이 적용 되어 검정통계량이 보수적으로 더 낮게 나옴\n",
    "result = chi2_contingency(observed=data_crosstab, correction=False)\n",
    "print(\"1. 카이제곱 통계량:\", result[0])\n",
    "print(\"2. p-value:\", result[1])\n",
    "print(\"3. df:\", result[2]) #(행의개수-1)*(열의개수-1)\n",
    "print(\"4. 기대값 행렬:\")\n",
    "pd.DataFrame(result[3]).rename(index={0:'복용', 1:'미복용'}, columns={0:'유', 1:'무'})\n",
    "\n",
    "if result[0] >= result[1]:\n",
    "    print(\"귀무가설 기각, 감기약 복용과 감기 유무는 차이가 있다.\")\n",
    "else :\n",
    "    print(\"귀무가설 채택, 감기약 복용과 감기 유무는 차이가 없다.\")"
   ]
  },
  {
   "cell_type": "code",
   "execution_count": null,
   "id": "e89f8bea",
   "metadata": {},
   "outputs": [],
   "source": []
  }
 ],
 "metadata": {
  "kernelspec": {
   "display_name": "Python 3",
   "language": "python",
   "name": "python3"
  },
  "language_info": {
   "codemirror_mode": {
    "name": "ipython",
    "version": 3
   },
   "file_extension": ".py",
   "mimetype": "text/x-python",
   "name": "python",
   "nbconvert_exporter": "python",
   "pygments_lexer": "ipython3",
   "version": "3.6.13"
  }
 },
 "nbformat": 4,
 "nbformat_minor": 5
}
